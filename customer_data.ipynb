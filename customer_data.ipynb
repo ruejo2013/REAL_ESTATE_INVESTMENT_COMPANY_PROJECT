{
 "cells": [
  {
   "cell_type": "code",
   "execution_count": 3,
   "id": "853adfa5-4838-4a26-9f30-5658902e584b",
   "metadata": {},
   "outputs": [],
   "source": [
    "#!/usr/bin/python3"
   ]
  },
  {
   "cell_type": "code",
   "execution_count": 97,
   "id": "3b76fe26-9006-43c8-b9b9-cb66bc414abf",
   "metadata": {},
   "outputs": [],
   "source": [
    "# to use \n",
    "# do <pip install Faker> in your activated dev env "
   ]
  },
  {
   "cell_type": "code",
   "execution_count": 46,
   "id": "dfb3f3b9-7de5-4096-a58c-7dcc37d884ed",
   "metadata": {},
   "outputs": [],
   "source": [
    "from faker import Faker\n",
    "import random_address\n",
    "import pandas as pd \n",
    "import datetime\n"
   ]
  },
  {
   "cell_type": "code",
   "execution_count": 47,
   "id": "5ee383fe-751a-4ffd-91f8-21ed32f3c1e3",
   "metadata": {},
   "outputs": [],
   "source": [
    "\n",
    "first_names = []\n",
    "last_names = []\n",
    "jobs = []\n",
    "credit_scores = []\n",
    "address = []\n",
    "year1 = []\n",
    "year2 = []\n",
    "year3 = []\n",
    "dob = []\n",
    "ssn = []\n",
    "current_debt = []\n",
    "\n",
    "faker = Faker()\n",
    "\n",
    "for i in range(30):\n",
    "    first_names.append(faker.first_name())\n",
    "    last_names.append(faker.last_name())\n",
    "    jobs.append((faker.job()))\n",
    "    credit_scores.append(faker.random_int(585, 790))\n",
    "    address.append(faker.address())\n",
    "    year1.append(faker.random_int(98000, 220000))\n",
    "    year2.append(faker.random_int(120000, 370000))\n",
    "    year3.append(faker.random_int(135000, 450000))\n",
    "    ssn.append(str(faker.random_int(135, 654)) + '-' + str(faker.random_int(23, 88)) + '-' + str(faker.random_int(2234, 7856)))\n",
    "    current_debt.append(faker.random_int(4500, 62000))\n",
    "    "
   ]
  },
  {
   "cell_type": "code",
   "execution_count": 87,
   "id": "2e461a87-5074-4411-acb1-5747eb9dd9c7",
   "metadata": {},
   "outputs": [],
   "source": [
    "# create an empty dob list \n",
    "dob = []\n",
    "\n",
    "start_date = datetime.date(year=1974, month=1, day=1)\n",
    "\n",
    "for i in range(20):\n",
    "    # fake.date_between(start_date='today', end_date='+30y')\n",
    "    dob.append(str(faker.date_between(start_date=start_date, end_date='-32y')))\n",
    "    \n",
    "for i in range(10):\n",
    "    dob.append(str(faker.date_between(start_date=start_date, end_date='-42y')))\n",
    "for i in range(10):\n",
    "    dob.append(str(faker.date_between(start_date=start_date, end_date='-45y')))"
   ]
  },
  {
   "cell_type": "code",
   "execution_count": 88,
   "id": "e3ccd584-d976-4f84-8aff-386e5b091b4b",
   "metadata": {},
   "outputs": [
    {
     "data": {
      "text/plain": [
       "['1988-05-06',\n",
       " '1990-06-24',\n",
       " '1976-12-21',\n",
       " '1976-03-07',\n",
       " '1990-07-21',\n",
       " '1979-08-17',\n",
       " '1983-01-09',\n",
       " '1975-01-14',\n",
       " '1983-10-15',\n",
       " '1986-12-15',\n",
       " '1974-04-24',\n",
       " '1981-10-28',\n",
       " '1985-05-19',\n",
       " '1989-02-01',\n",
       " '1976-06-10',\n",
       " '1983-11-03',\n",
       " '1977-08-29',\n",
       " '1974-11-08',\n",
       " '1980-12-23',\n",
       " '1982-04-05',\n",
       " '1974-10-17',\n",
       " '1977-10-20',\n",
       " '1974-07-30',\n",
       " '1974-03-23',\n",
       " '1979-10-19',\n",
       " '1976-05-28',\n",
       " '1978-10-23',\n",
       " '1979-01-13',\n",
       " '1977-08-05',\n",
       " '1977-03-24',\n",
       " '1977-01-11',\n",
       " '1975-02-08',\n",
       " '1975-02-09',\n",
       " '1976-07-11',\n",
       " '1975-02-19',\n",
       " '1974-04-13',\n",
       " '1975-08-19',\n",
       " '1975-02-18',\n",
       " '1977-04-09',\n",
       " '1977-05-27']"
      ]
     },
     "execution_count": 88,
     "metadata": {},
     "output_type": "execute_result"
    }
   ],
   "source": [
    "dob"
   ]
  },
  {
   "cell_type": "code",
   "execution_count": 89,
   "id": "c5c3307b-e871-47f8-a304-41e14116f1af",
   "metadata": {},
   "outputs": [],
   "source": [
    "\n",
    "df = pd.DataFrame(list(zip(first_names, last_names, jobs, credit_scores, address, year1, year2, year3, dob, ssn, current_debt)),\n",
    "               columns =['first_name', 'last_names', 'jobs', 'credit_scores', 'address', 'year1', 'year2', 'year3', \\\n",
    "                        'dob', 'ssn', 'current_debt'])"
   ]
  },
  {
   "cell_type": "code",
   "execution_count": null,
   "id": "c3211eaa-9bbd-4740-9fa3-730c6d6e443c",
   "metadata": {},
   "outputs": [],
   "source": [
    "# convert the dob column to datetime object \n",
    "df['dob'] = pd.to_datetime(df['dob'])\n",
    "\n",
    "# subtract 2022 from the year(dob) to get the age of the customer\n",
    "df['age'] =  df['dob'].apply(lambda x: 2022 - int(x.year))"
   ]
  },
  {
   "cell_type": "code",
   "execution_count": 91,
   "id": "bf380840-0fe9-4f4e-9253-a5005c182a4b",
   "metadata": {},
   "outputs": [
    {
     "data": {
      "text/plain": [
       "first_name       object\n",
       "last_names       object\n",
       "jobs             object\n",
       "credit_scores     int64\n",
       "address          object\n",
       "year1             int64\n",
       "year2             int64\n",
       "year3             int64\n",
       "dob              object\n",
       "ssn              object\n",
       "current_debt      int64\n",
       "dtype: object"
      ]
     },
     "execution_count": 91,
     "metadata": {},
     "output_type": "execute_result"
    }
   ],
   "source": [
    "df.dtypes"
   ]
  },
  {
   "cell_type": "code",
   "execution_count": 98,
   "id": "9239786f-8a85-4571-9e9c-da8f977384fb",
   "metadata": {},
   "outputs": [],
   "source": [
    "df.to_csv('customer_data.csv', index=False)"
   ]
  },
  {
   "cell_type": "code",
   "execution_count": 95,
   "id": "544b6a1e-5fb6-4009-abba-d7e4f2dc7de0",
   "metadata": {},
   "outputs": [],
   "source": []
  },
  {
   "cell_type": "code",
   "execution_count": null,
   "id": "c1430e18-f0e8-4c99-86fc-9dc7a503c52b",
   "metadata": {},
   "outputs": [],
   "source": []
  },
  {
   "cell_type": "code",
   "execution_count": 69,
   "id": "8c1c25f2-f6e6-49b1-b47c-fb4fae74b0c5",
   "metadata": {},
   "outputs": [
    {
     "data": {
      "text/plain": [
       "datetime.date(1993, 5, 21)"
      ]
     },
     "execution_count": 69,
     "metadata": {},
     "output_type": "execute_result"
    }
   ],
   "source": []
  },
  {
   "cell_type": "code",
   "execution_count": null,
   "id": "a01f9876-7720-4ac3-bc7f-3396a34ee34c",
   "metadata": {},
   "outputs": [],
   "source": []
  }
 ],
 "metadata": {
  "kernelspec": {
   "display_name": "Python (dev)",
   "language": "python",
   "name": "dev"
  },
  "language_info": {
   "codemirror_mode": {
    "name": "ipython",
    "version": 3
   },
   "file_extension": ".py",
   "mimetype": "text/x-python",
   "name": "python",
   "nbconvert_exporter": "python",
   "pygments_lexer": "ipython3",
   "version": "3.7.13"
  }
 },
 "nbformat": 4,
 "nbformat_minor": 5
}
