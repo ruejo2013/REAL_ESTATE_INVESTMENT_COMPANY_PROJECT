{
 "cells": [
  {
   "cell_type": "code",
   "execution_count": 1,
   "id": "853adfa5-4838-4a26-9f30-5658902e584b",
   "metadata": {},
   "outputs": [],
   "source": [
    "#!/usr/bin/python3"
   ]
  },
  {
   "cell_type": "code",
   "execution_count": 2,
   "id": "3b76fe26-9006-43c8-b9b9-cb66bc414abf",
   "metadata": {},
   "outputs": [],
   "source": [
    "# to use \n",
    "# do <pip install Faker> in your activated dev env "
   ]
  },
  {
   "cell_type": "markdown",
   "id": "a100a296-cd2a-4eb5-ada5-8d1845476ee2",
   "metadata": {},
   "source": [
    "# Data Pre-processing \n",
    "The NYC housing data used for this project was sourced from https://www.kaggle.com/datasets/kaijiechen/nyc-housing-data-20032019?resource=download\n",
    "\n",
    "Customer data was created by the members of this group to simulate real world customer data.\n"
   ]
  },
  {
   "cell_type": "code",
   "execution_count": 71,
   "id": "dfb3f3b9-7de5-4096-a58c-7dcc37d884ed",
   "metadata": {},
   "outputs": [],
   "source": [
    "# import python libraries\n",
    "from faker import Faker\n",
    "import random_address\n",
    "import pandas as pd \n",
    "import datetime\n",
    "from pathlib import Path\n",
    "import requests\n",
    "from collections import defaultdict\n",
    " "
   ]
  },
  {
   "cell_type": "markdown",
   "id": "563176e8-539b-495f-aea1-7e39cc244ad5",
   "metadata": {},
   "source": [
    "# Data preparation\n",
    "Creating dummy customer data "
   ]
  },
  {
   "cell_type": "code",
   "execution_count": 72,
   "id": "5ee383fe-751a-4ffd-91f8-21ed32f3c1e3",
   "metadata": {},
   "outputs": [],
   "source": [
    "# create variables (list) \n",
    "first_names = []\n",
    "last_names = []\n",
    "jobs = []\n",
    "credit_scores = []\n",
    "address = []\n",
    "year1 = []\n",
    "year2 = []\n",
    "year3 = []\n",
    "dob = []\n",
    "ssn = []\n",
    "current_debt = []\n",
    "\n",
    "# create customer data \n",
    "faker = Faker()\n",
    "\n",
    "for i in range(30):\n",
    "    first_names.append(faker.first_name())\n",
    "    last_names.append(faker.last_name())\n",
    "    jobs.append((faker.job()))\n",
    "    credit_scores.append(faker.random_int(585, 790))\n",
    "    address.append(faker.address())\n",
    "    year1.append(faker.random_int(98000, 220000))\n",
    "    year2.append(faker.random_int(120000, 370000))\n",
    "    year3.append(faker.random_int(135000, 450000))\n",
    "    ssn.append(str(faker.random_int(135, 654)) + '-' + str(faker.random_int(23, 88)) + '-' + str(faker.random_int(2234, 7856)))\n",
    "    current_debt.append(faker.random_int(4500, 62000))\n",
    "    "
   ]
  },
  {
   "cell_type": "code",
   "execution_count": 73,
   "id": "2e461a87-5074-4411-acb1-5747eb9dd9c7",
   "metadata": {},
   "outputs": [],
   "source": [
    "# create an empty dob list \n",
    "dob = []\n",
    "\n",
    "start_date = datetime.date(year=1974, month=1, day=1)\n",
    "\n",
    "for i in range(20):\n",
    "    # fake.date_between(start_date='today', end_date='+30y')\n",
    "    dob.append(str(faker.date_between(start_date=start_date, end_date='-32y')))\n",
    "    \n",
    "for i in range(10):\n",
    "    dob.append(str(faker.date_between(start_date=start_date, end_date='-42y')))\n",
    "for i in range(10):\n",
    "    dob.append(str(faker.date_between(start_date=start_date, end_date='-45y')))"
   ]
  },
  {
   "cell_type": "code",
   "execution_count": 74,
   "id": "c5c3307b-e871-47f8-a304-41e14116f1af",
   "metadata": {},
   "outputs": [],
   "source": [
    "\n",
    "df = pd.DataFrame(list(zip(first_names, last_names, jobs, credit_scores, address, year1, year2, year3, dob, ssn, current_debt)),\n",
    "               columns =['first_name', 'last_names', 'jobs', 'credit_scores', 'address', 'year1', 'year2', 'year3', \\\n",
    "                        'dob', 'ssn', 'current_debt'])"
   ]
  },
  {
   "cell_type": "code",
   "execution_count": 75,
   "id": "c3211eaa-9bbd-4740-9fa3-730c6d6e443c",
   "metadata": {},
   "outputs": [],
   "source": [
    "# convert the dob column to datetime object \n",
    "df['dob'] = pd.to_datetime(df['dob'])\n",
    "\n",
    "# subtract 2022 from the year(dob) to get the age of the customer\n",
    "df['age'] =  df['dob'].apply(lambda x: 2022 - int(x.year))"
   ]
  },
  {
   "cell_type": "code",
   "execution_count": 76,
   "id": "bf380840-0fe9-4f4e-9253-a5005c182a4b",
   "metadata": {},
   "outputs": [
    {
     "data": {
      "text/plain": [
       "first_name               object\n",
       "last_names               object\n",
       "jobs                     object\n",
       "credit_scores             int64\n",
       "address                  object\n",
       "year1                     int64\n",
       "year2                     int64\n",
       "year3                     int64\n",
       "dob              datetime64[ns]\n",
       "ssn                      object\n",
       "current_debt              int64\n",
       "age                       int64\n",
       "dtype: object"
      ]
     },
     "execution_count": 76,
     "metadata": {},
     "output_type": "execute_result"
    }
   ],
   "source": [
    "# checking df datatypes\n",
    "df.dtypes"
   ]
  },
  {
   "cell_type": "code",
   "execution_count": 77,
   "id": "25c2e618-ea2c-4cc1-b86d-cc6bdfcd20b6",
   "metadata": {},
   "outputs": [],
   "source": [
    "# removing \\n from address \n",
    "def remove_newline(strng):\n",
    "    \"\"\"\n",
    "    function to remove \\n from a string\n",
    "    \n",
    "    input: string strng\n",
    "    output: new strng\n",
    "    \n",
    "    \"\"\"\n",
    "    return strng.replace('\\n', ' ')"
   ]
  },
  {
   "cell_type": "code",
   "execution_count": 78,
   "id": "5c4b1b28-200f-4920-88bd-a2d862418eb4",
   "metadata": {},
   "outputs": [],
   "source": [
    "# apply function to address column\n",
    "df['address'] = df['address'].apply(remove_newline)"
   ]
  },
  {
   "cell_type": "code",
   "execution_count": null,
   "id": "9239786f-8a85-4571-9e9c-da8f977384fb",
   "metadata": {},
   "outputs": [],
   "source": []
  },
  {
   "cell_type": "code",
   "execution_count": 79,
   "id": "544b6a1e-5fb6-4009-abba-d7e4f2dc7de0",
   "metadata": {},
   "outputs": [
    {
     "data": {
      "text/html": [
       "<div>\n",
       "<style scoped>\n",
       "    .dataframe tbody tr th:only-of-type {\n",
       "        vertical-align: middle;\n",
       "    }\n",
       "\n",
       "    .dataframe tbody tr th {\n",
       "        vertical-align: top;\n",
       "    }\n",
       "\n",
       "    .dataframe thead th {\n",
       "        text-align: right;\n",
       "    }\n",
       "</style>\n",
       "<table border=\"1\" class=\"dataframe\">\n",
       "  <thead>\n",
       "    <tr style=\"text-align: right;\">\n",
       "      <th></th>\n",
       "      <th>first_name</th>\n",
       "      <th>last_names</th>\n",
       "      <th>jobs</th>\n",
       "      <th>credit_scores</th>\n",
       "      <th>address</th>\n",
       "      <th>year1</th>\n",
       "      <th>year2</th>\n",
       "      <th>year3</th>\n",
       "      <th>dob</th>\n",
       "      <th>ssn</th>\n",
       "      <th>current_debt</th>\n",
       "      <th>age</th>\n",
       "    </tr>\n",
       "  </thead>\n",
       "  <tbody>\n",
       "    <tr>\n",
       "      <th>0</th>\n",
       "      <td>Matthew</td>\n",
       "      <td>Roberts</td>\n",
       "      <td>Forest/woodland manager</td>\n",
       "      <td>700</td>\n",
       "      <td>587 Richard Mills Lake Phyllisstad, MS 72339</td>\n",
       "      <td>207290</td>\n",
       "      <td>327128</td>\n",
       "      <td>209558</td>\n",
       "      <td>1978-10-24</td>\n",
       "      <td>556-83-4105</td>\n",
       "      <td>13719</td>\n",
       "      <td>44</td>\n",
       "    </tr>\n",
       "    <tr>\n",
       "      <th>1</th>\n",
       "      <td>Kimberly</td>\n",
       "      <td>Bradley</td>\n",
       "      <td>Retail merchandiser</td>\n",
       "      <td>590</td>\n",
       "      <td>2302 Rhonda Drive Suite 301 Jameshaven, KS 43582</td>\n",
       "      <td>138768</td>\n",
       "      <td>154584</td>\n",
       "      <td>432014</td>\n",
       "      <td>1989-04-01</td>\n",
       "      <td>506-29-6214</td>\n",
       "      <td>28299</td>\n",
       "      <td>33</td>\n",
       "    </tr>\n",
       "    <tr>\n",
       "      <th>2</th>\n",
       "      <td>George</td>\n",
       "      <td>Francis</td>\n",
       "      <td>Data processing manager</td>\n",
       "      <td>632</td>\n",
       "      <td>2388 Campos Plain Suite 538 North Mallory, HI ...</td>\n",
       "      <td>138151</td>\n",
       "      <td>270091</td>\n",
       "      <td>377325</td>\n",
       "      <td>1978-08-14</td>\n",
       "      <td>634-87-2939</td>\n",
       "      <td>24983</td>\n",
       "      <td>44</td>\n",
       "    </tr>\n",
       "    <tr>\n",
       "      <th>3</th>\n",
       "      <td>Kristina</td>\n",
       "      <td>Guerra</td>\n",
       "      <td>Multimedia programmer</td>\n",
       "      <td>642</td>\n",
       "      <td>985 Erika Cape South Paul, GA 42964</td>\n",
       "      <td>163500</td>\n",
       "      <td>342981</td>\n",
       "      <td>242466</td>\n",
       "      <td>1986-07-18</td>\n",
       "      <td>372-35-6905</td>\n",
       "      <td>40928</td>\n",
       "      <td>36</td>\n",
       "    </tr>\n",
       "    <tr>\n",
       "      <th>4</th>\n",
       "      <td>Jeff</td>\n",
       "      <td>Cummings</td>\n",
       "      <td>Personal assistant</td>\n",
       "      <td>768</td>\n",
       "      <td>59065 Gina Garden Suite 292 New Christopher, M...</td>\n",
       "      <td>101206</td>\n",
       "      <td>176421</td>\n",
       "      <td>147224</td>\n",
       "      <td>1977-01-09</td>\n",
       "      <td>485-41-5033</td>\n",
       "      <td>27560</td>\n",
       "      <td>45</td>\n",
       "    </tr>\n",
       "  </tbody>\n",
       "</table>\n",
       "</div>"
      ],
      "text/plain": [
       "  first_name last_names                     jobs  credit_scores  \\\n",
       "0    Matthew    Roberts  Forest/woodland manager            700   \n",
       "1   Kimberly    Bradley      Retail merchandiser            590   \n",
       "2     George    Francis  Data processing manager            632   \n",
       "3   Kristina     Guerra    Multimedia programmer            642   \n",
       "4       Jeff   Cummings       Personal assistant            768   \n",
       "\n",
       "                                             address   year1   year2   year3  \\\n",
       "0       587 Richard Mills Lake Phyllisstad, MS 72339  207290  327128  209558   \n",
       "1   2302 Rhonda Drive Suite 301 Jameshaven, KS 43582  138768  154584  432014   \n",
       "2  2388 Campos Plain Suite 538 North Mallory, HI ...  138151  270091  377325   \n",
       "3                985 Erika Cape South Paul, GA 42964  163500  342981  242466   \n",
       "4  59065 Gina Garden Suite 292 New Christopher, M...  101206  176421  147224   \n",
       "\n",
       "         dob          ssn  current_debt  age  \n",
       "0 1978-10-24  556-83-4105         13719   44  \n",
       "1 1989-04-01  506-29-6214         28299   33  \n",
       "2 1978-08-14  634-87-2939         24983   44  \n",
       "3 1986-07-18  372-35-6905         40928   36  \n",
       "4 1977-01-09  485-41-5033         27560   45  "
      ]
     },
     "execution_count": 79,
     "metadata": {},
     "output_type": "execute_result"
    }
   ],
   "source": [
    "df.head()"
   ]
  },
  {
   "cell_type": "code",
   "execution_count": null,
   "id": "091fdac6-a595-48f2-a629-764b0de6cd1e",
   "metadata": {},
   "outputs": [],
   "source": []
  },
  {
   "cell_type": "code",
   "execution_count": 13,
   "id": "986a5fab-3b4d-4155-99db-b1e4193f8695",
   "metadata": {},
   "outputs": [],
   "source": [
    "# write file to resouces folder \n",
    "df.to_csv('Resources/customer_data.csv', index=False)"
   ]
  },
  {
   "cell_type": "code",
   "execution_count": null,
   "id": "6a4cc808-90c6-43ae-9ef5-f72e92aed248",
   "metadata": {},
   "outputs": [],
   "source": []
  },
  {
   "cell_type": "code",
   "execution_count": null,
   "id": "97b8f757-2d53-4f1a-b957-f5a981ab042b",
   "metadata": {},
   "outputs": [],
   "source": []
  },
  {
   "cell_type": "markdown",
   "id": "1cd83bad-e423-497f-b747-8668512ee1f9",
   "metadata": {},
   "source": [
    "## Part 2:\n",
    "## Cleaning the NYC housing data\n",
    "\n",
    "New York Housing Data: Data preparation. \n",
    "To get the nyc_housing_data_2013_2019.csv file please download from this link https://www.kaggle.com/datasets/kaijiechen/nyc-housing-data-20032019?resource=download"
   ]
  },
  {
   "cell_type": "code",
   "execution_count": 14,
   "id": "a01f9876-7720-4ac3-bc7f-3396a34ee34c",
   "metadata": {},
   "outputs": [],
   "source": [
    "# read in df \n",
    "# update the file path to the location of your downloaded file\n",
    "df_kaggle = pd.read_csv(Path(\"<path_to_data.csv>\"))"
   ]
  },
  {
   "cell_type": "code",
   "execution_count": 15,
   "id": "9ff8e146-fa24-44a0-b853-388c709ade68",
   "metadata": {},
   "outputs": [
    {
     "data": {
      "text/html": [
       "<div>\n",
       "<style scoped>\n",
       "    .dataframe tbody tr th:only-of-type {\n",
       "        vertical-align: middle;\n",
       "    }\n",
       "\n",
       "    .dataframe tbody tr th {\n",
       "        vertical-align: top;\n",
       "    }\n",
       "\n",
       "    .dataframe thead th {\n",
       "        text-align: right;\n",
       "    }\n",
       "</style>\n",
       "<table border=\"1\" class=\"dataframe\">\n",
       "  <thead>\n",
       "    <tr style=\"text-align: right;\">\n",
       "      <th></th>\n",
       "      <th>BOROUGH</th>\n",
       "      <th>NEIGHBORHOOD</th>\n",
       "      <th>BUILDING CLASS CATEGORY</th>\n",
       "      <th>ADDRESS</th>\n",
       "      <th>ZIP CODE</th>\n",
       "      <th>LAND SQUARE FEET</th>\n",
       "      <th>GROSS SQUARE FEET</th>\n",
       "      <th>YEAR BUILT</th>\n",
       "      <th>SALE PRICE</th>\n",
       "      <th>SALE DATE</th>\n",
       "    </tr>\n",
       "  </thead>\n",
       "  <tbody>\n",
       "    <tr>\n",
       "      <th>0</th>\n",
       "      <td>1</td>\n",
       "      <td>ALPHABET CITY</td>\n",
       "      <td>02  TWO FAMILY HOMES</td>\n",
       "      <td>746 EAST 6 STREET</td>\n",
       "      <td>10009.0</td>\n",
       "      <td>2134.0</td>\n",
       "      <td>3542.0</td>\n",
       "      <td>1899.0</td>\n",
       "      <td>1800000</td>\n",
       "      <td>2003-01-22 00:00:00</td>\n",
       "    </tr>\n",
       "    <tr>\n",
       "      <th>1</th>\n",
       "      <td>1</td>\n",
       "      <td>ALPHABET CITY</td>\n",
       "      <td>07  RENTALS - WALKUP APARTMENTS</td>\n",
       "      <td>316 EAST 3 STREET</td>\n",
       "      <td>10009.0</td>\n",
       "      <td>5746.0</td>\n",
       "      <td>2700.0</td>\n",
       "      <td>1900.0</td>\n",
       "      <td>0</td>\n",
       "      <td>2003-12-18 00:00:00</td>\n",
       "    </tr>\n",
       "    <tr>\n",
       "      <th>2</th>\n",
       "      <td>1</td>\n",
       "      <td>ALPHABET CITY</td>\n",
       "      <td>07  RENTALS - WALKUP APARTMENTS</td>\n",
       "      <td>316 EAST 3 STREET</td>\n",
       "      <td>10009.0</td>\n",
       "      <td>5746.0</td>\n",
       "      <td>2700.0</td>\n",
       "      <td>1900.0</td>\n",
       "      <td>0</td>\n",
       "      <td>2003-12-18 00:00:00</td>\n",
       "    </tr>\n",
       "  </tbody>\n",
       "</table>\n",
       "</div>"
      ],
      "text/plain": [
       "   BOROUGH               NEIGHBORHOOD  \\\n",
       "0        1  ALPHABET CITY               \n",
       "1        1  ALPHABET CITY               \n",
       "2        1  ALPHABET CITY               \n",
       "\n",
       "                        BUILDING CLASS CATEGORY  \\\n",
       "0  02  TWO FAMILY HOMES                           \n",
       "1  07  RENTALS - WALKUP APARTMENTS                \n",
       "2  07  RENTALS - WALKUP APARTMENTS                \n",
       "\n",
       "                                     ADDRESS  ZIP CODE  LAND SQUARE FEET  \\\n",
       "0  746 EAST 6 STREET                           10009.0            2134.0   \n",
       "1  316 EAST 3 STREET                           10009.0            5746.0   \n",
       "2  316 EAST 3 STREET                           10009.0            5746.0   \n",
       "\n",
       "   GROSS SQUARE FEET  YEAR BUILT  SALE PRICE            SALE DATE  \n",
       "0             3542.0      1899.0     1800000  2003-01-22 00:00:00  \n",
       "1             2700.0      1900.0           0  2003-12-18 00:00:00  \n",
       "2             2700.0      1900.0           0  2003-12-18 00:00:00  "
      ]
     },
     "execution_count": 15,
     "metadata": {},
     "output_type": "execute_result"
    }
   ],
   "source": [
    "df_kaggle.head(3)"
   ]
  },
  {
   "cell_type": "code",
   "execution_count": 16,
   "id": "5337af14-38bb-47e0-8a35-345562d0637d",
   "metadata": {},
   "outputs": [
    {
     "data": {
      "text/plain": [
       "BOROUGH                      int64\n",
       "NEIGHBORHOOD                object\n",
       "BUILDING CLASS CATEGORY     object\n",
       "ADDRESS                     object\n",
       "ZIP CODE                   float64\n",
       "LAND SQUARE FEET           float64\n",
       "GROSS SQUARE FEET          float64\n",
       "YEAR BUILT                 float64\n",
       "SALE PRICE                   int64\n",
       "SALE DATE                   object\n",
       "dtype: object"
      ]
     },
     "execution_count": 16,
     "metadata": {},
     "output_type": "execute_result"
    }
   ],
   "source": [
    "df_kaggle.dtypes"
   ]
  },
  {
   "cell_type": "code",
   "execution_count": 17,
   "id": "7228bf01-f400-452d-80d1-e4ec066c4e6b",
   "metadata": {},
   "outputs": [],
   "source": [
    "# convert ADDRESS, ZIP CODE, LAND SQUARE FEET, GROSS SQUARE FEET\n",
    "\n",
    "df_kaggle['ZIP CODE'] = pd.to_numeric(df_kaggle['ZIP CODE'], errors='coerce').astype('Int64')"
   ]
  },
  {
   "cell_type": "code",
   "execution_count": 18,
   "id": "a45a29e2-b3e7-41fa-84ae-c62d7c4779c7",
   "metadata": {},
   "outputs": [],
   "source": [
    "df_kaggle['LAND SQUARE FEET'] = pd.to_numeric(df_kaggle['LAND SQUARE FEET'], errors='coerce').astype('Int64')"
   ]
  },
  {
   "cell_type": "code",
   "execution_count": 19,
   "id": "97041428-b2fd-4bec-85fd-fdb55516c13f",
   "metadata": {},
   "outputs": [],
   "source": [
    "df_kaggle['GROSS SQUARE FEET'] = pd.to_numeric(df_kaggle['GROSS SQUARE FEET'], errors='coerce').astype('Int64')"
   ]
  },
  {
   "cell_type": "code",
   "execution_count": 20,
   "id": "e62b2b99-dd32-41cf-9a53-8c53d365d03c",
   "metadata": {},
   "outputs": [],
   "source": [
    "df_kaggle['YEAR BUILT'] = pd.to_numeric(df_kaggle['YEAR BUILT'], errors='coerce').astype('Int64')"
   ]
  },
  {
   "cell_type": "code",
   "execution_count": 21,
   "id": "f8848f2e-6871-4f3b-9b54-adfa25a0880b",
   "metadata": {},
   "outputs": [
    {
     "data": {
      "text/html": [
       "<div>\n",
       "<style scoped>\n",
       "    .dataframe tbody tr th:only-of-type {\n",
       "        vertical-align: middle;\n",
       "    }\n",
       "\n",
       "    .dataframe tbody tr th {\n",
       "        vertical-align: top;\n",
       "    }\n",
       "\n",
       "    .dataframe thead th {\n",
       "        text-align: right;\n",
       "    }\n",
       "</style>\n",
       "<table border=\"1\" class=\"dataframe\">\n",
       "  <thead>\n",
       "    <tr style=\"text-align: right;\">\n",
       "      <th></th>\n",
       "      <th>BOROUGH</th>\n",
       "      <th>NEIGHBORHOOD</th>\n",
       "      <th>BUILDING CLASS CATEGORY</th>\n",
       "      <th>ADDRESS</th>\n",
       "      <th>ZIP CODE</th>\n",
       "      <th>LAND SQUARE FEET</th>\n",
       "      <th>GROSS SQUARE FEET</th>\n",
       "      <th>YEAR BUILT</th>\n",
       "      <th>SALE PRICE</th>\n",
       "      <th>SALE DATE</th>\n",
       "    </tr>\n",
       "  </thead>\n",
       "  <tbody>\n",
       "    <tr>\n",
       "      <th>0</th>\n",
       "      <td>1</td>\n",
       "      <td>ALPHABET CITY</td>\n",
       "      <td>02  TWO FAMILY HOMES</td>\n",
       "      <td>746 EAST 6 STREET</td>\n",
       "      <td>10009</td>\n",
       "      <td>2134</td>\n",
       "      <td>3542</td>\n",
       "      <td>1899</td>\n",
       "      <td>1800000</td>\n",
       "      <td>2003-01-22 00:00:00</td>\n",
       "    </tr>\n",
       "    <tr>\n",
       "      <th>1</th>\n",
       "      <td>1</td>\n",
       "      <td>ALPHABET CITY</td>\n",
       "      <td>07  RENTALS - WALKUP APARTMENTS</td>\n",
       "      <td>316 EAST 3 STREET</td>\n",
       "      <td>10009</td>\n",
       "      <td>5746</td>\n",
       "      <td>2700</td>\n",
       "      <td>1900</td>\n",
       "      <td>0</td>\n",
       "      <td>2003-12-18 00:00:00</td>\n",
       "    </tr>\n",
       "    <tr>\n",
       "      <th>2</th>\n",
       "      <td>1</td>\n",
       "      <td>ALPHABET CITY</td>\n",
       "      <td>07  RENTALS - WALKUP APARTMENTS</td>\n",
       "      <td>316 EAST 3 STREET</td>\n",
       "      <td>10009</td>\n",
       "      <td>5746</td>\n",
       "      <td>2700</td>\n",
       "      <td>1900</td>\n",
       "      <td>0</td>\n",
       "      <td>2003-12-18 00:00:00</td>\n",
       "    </tr>\n",
       "    <tr>\n",
       "      <th>3</th>\n",
       "      <td>1</td>\n",
       "      <td>ALPHABET CITY</td>\n",
       "      <td>07  RENTALS - WALKUP APARTMENTS</td>\n",
       "      <td>125 AVENUE D</td>\n",
       "      <td>10009</td>\n",
       "      <td>2185</td>\n",
       "      <td>5725</td>\n",
       "      <td>1910</td>\n",
       "      <td>426000</td>\n",
       "      <td>2003-10-23 00:00:00</td>\n",
       "    </tr>\n",
       "    <tr>\n",
       "      <th>4</th>\n",
       "      <td>1</td>\n",
       "      <td>ALPHABET CITY</td>\n",
       "      <td>07  RENTALS - WALKUP APARTMENTS</td>\n",
       "      <td>610 EAST 9 STREET</td>\n",
       "      <td>10009</td>\n",
       "      <td>2543</td>\n",
       "      <td>11568</td>\n",
       "      <td>1910</td>\n",
       "      <td>0</td>\n",
       "      <td>2003-02-28 00:00:00</td>\n",
       "    </tr>\n",
       "  </tbody>\n",
       "</table>\n",
       "</div>"
      ],
      "text/plain": [
       "   BOROUGH               NEIGHBORHOOD  \\\n",
       "0        1  ALPHABET CITY               \n",
       "1        1  ALPHABET CITY               \n",
       "2        1  ALPHABET CITY               \n",
       "3        1  ALPHABET CITY               \n",
       "4        1  ALPHABET CITY               \n",
       "\n",
       "                        BUILDING CLASS CATEGORY  \\\n",
       "0  02  TWO FAMILY HOMES                           \n",
       "1  07  RENTALS - WALKUP APARTMENTS                \n",
       "2  07  RENTALS - WALKUP APARTMENTS                \n",
       "3  07  RENTALS - WALKUP APARTMENTS                \n",
       "4  07  RENTALS - WALKUP APARTMENTS                \n",
       "\n",
       "                                     ADDRESS  ZIP CODE  LAND SQUARE FEET  \\\n",
       "0  746 EAST 6 STREET                             10009              2134   \n",
       "1  316 EAST 3 STREET                             10009              5746   \n",
       "2  316 EAST 3 STREET                             10009              5746   \n",
       "3  125 AVENUE D                                  10009              2185   \n",
       "4  610 EAST 9 STREET                             10009              2543   \n",
       "\n",
       "   GROSS SQUARE FEET  YEAR BUILT  SALE PRICE            SALE DATE  \n",
       "0               3542        1899     1800000  2003-01-22 00:00:00  \n",
       "1               2700        1900           0  2003-12-18 00:00:00  \n",
       "2               2700        1900           0  2003-12-18 00:00:00  \n",
       "3               5725        1910      426000  2003-10-23 00:00:00  \n",
       "4              11568        1910           0  2003-02-28 00:00:00  "
      ]
     },
     "execution_count": 21,
     "metadata": {},
     "output_type": "execute_result"
    }
   ],
   "source": [
    "df_kaggle.head()"
   ]
  },
  {
   "cell_type": "code",
   "execution_count": 22,
   "id": "b2f114e6-dba3-4c9b-a16a-dbf45800942e",
   "metadata": {},
   "outputs": [],
   "source": [
    "# remove any houses where sales price is less than 300000\n",
    "\n",
    "df_kaggle_new = df_kaggle[df_kaggle['SALE PRICE'] > 300000]"
   ]
  },
  {
   "cell_type": "code",
   "execution_count": 23,
   "id": "a64952c5-ec77-462e-a795-7d98211d1013",
   "metadata": {},
   "outputs": [
    {
     "data": {
      "text/html": [
       "<div>\n",
       "<style scoped>\n",
       "    .dataframe tbody tr th:only-of-type {\n",
       "        vertical-align: middle;\n",
       "    }\n",
       "\n",
       "    .dataframe tbody tr th {\n",
       "        vertical-align: top;\n",
       "    }\n",
       "\n",
       "    .dataframe thead th {\n",
       "        text-align: right;\n",
       "    }\n",
       "</style>\n",
       "<table border=\"1\" class=\"dataframe\">\n",
       "  <thead>\n",
       "    <tr style=\"text-align: right;\">\n",
       "      <th></th>\n",
       "      <th>BOROUGH</th>\n",
       "      <th>NEIGHBORHOOD</th>\n",
       "      <th>BUILDING CLASS CATEGORY</th>\n",
       "      <th>ADDRESS</th>\n",
       "      <th>ZIP CODE</th>\n",
       "      <th>LAND SQUARE FEET</th>\n",
       "      <th>GROSS SQUARE FEET</th>\n",
       "      <th>YEAR BUILT</th>\n",
       "      <th>SALE PRICE</th>\n",
       "      <th>SALE DATE</th>\n",
       "    </tr>\n",
       "  </thead>\n",
       "  <tbody>\n",
       "    <tr>\n",
       "      <th>0</th>\n",
       "      <td>1</td>\n",
       "      <td>ALPHABET CITY</td>\n",
       "      <td>02  TWO FAMILY HOMES</td>\n",
       "      <td>746 EAST 6 STREET</td>\n",
       "      <td>10009</td>\n",
       "      <td>2134</td>\n",
       "      <td>3542</td>\n",
       "      <td>1899</td>\n",
       "      <td>1800000</td>\n",
       "      <td>2003-01-22 00:00:00</td>\n",
       "    </tr>\n",
       "    <tr>\n",
       "      <th>3</th>\n",
       "      <td>1</td>\n",
       "      <td>ALPHABET CITY</td>\n",
       "      <td>07  RENTALS - WALKUP APARTMENTS</td>\n",
       "      <td>125 AVENUE D</td>\n",
       "      <td>10009</td>\n",
       "      <td>2185</td>\n",
       "      <td>5725</td>\n",
       "      <td>1910</td>\n",
       "      <td>426000</td>\n",
       "      <td>2003-10-23 00:00:00</td>\n",
       "    </tr>\n",
       "    <tr>\n",
       "      <th>11</th>\n",
       "      <td>1</td>\n",
       "      <td>ALPHABET CITY</td>\n",
       "      <td>07  RENTALS - WALKUP APARTMENTS</td>\n",
       "      <td>14 AVENUE A</td>\n",
       "      <td>10009</td>\n",
       "      <td>2377</td>\n",
       "      <td>8722</td>\n",
       "      <td>1900</td>\n",
       "      <td>1600000</td>\n",
       "      <td>2003-09-08 00:00:00</td>\n",
       "    </tr>\n",
       "    <tr>\n",
       "      <th>12</th>\n",
       "      <td>1</td>\n",
       "      <td>ALPHABET CITY</td>\n",
       "      <td>07  RENTALS - WALKUP APARTMENTS</td>\n",
       "      <td>536 EAST 6 STREET</td>\n",
       "      <td>10009</td>\n",
       "      <td>1957</td>\n",
       "      <td>6200</td>\n",
       "      <td>1920</td>\n",
       "      <td>1060000</td>\n",
       "      <td>2003-04-30 00:00:00</td>\n",
       "    </tr>\n",
       "  </tbody>\n",
       "</table>\n",
       "</div>"
      ],
      "text/plain": [
       "    BOROUGH               NEIGHBORHOOD  \\\n",
       "0         1  ALPHABET CITY               \n",
       "3         1  ALPHABET CITY               \n",
       "11        1  ALPHABET CITY               \n",
       "12        1  ALPHABET CITY               \n",
       "\n",
       "                         BUILDING CLASS CATEGORY  \\\n",
       "0   02  TWO FAMILY HOMES                           \n",
       "3   07  RENTALS - WALKUP APARTMENTS                \n",
       "11  07  RENTALS - WALKUP APARTMENTS                \n",
       "12  07  RENTALS - WALKUP APARTMENTS                \n",
       "\n",
       "                                      ADDRESS  ZIP CODE  LAND SQUARE FEET  \\\n",
       "0   746 EAST 6 STREET                             10009              2134   \n",
       "3   125 AVENUE D                                  10009              2185   \n",
       "11  14 AVENUE A                                   10009              2377   \n",
       "12  536 EAST 6 STREET                             10009              1957   \n",
       "\n",
       "    GROSS SQUARE FEET  YEAR BUILT  SALE PRICE            SALE DATE  \n",
       "0                3542        1899     1800000  2003-01-22 00:00:00  \n",
       "3                5725        1910      426000  2003-10-23 00:00:00  \n",
       "11               8722        1900     1600000  2003-09-08 00:00:00  \n",
       "12               6200        1920     1060000  2003-04-30 00:00:00  "
      ]
     },
     "execution_count": 23,
     "metadata": {},
     "output_type": "execute_result"
    }
   ],
   "source": [
    "df_kaggle_new.head(4)"
   ]
  },
  {
   "cell_type": "code",
   "execution_count": 24,
   "id": "dff4c346-e5a7-4bf8-adc8-7d266ca541e4",
   "metadata": {},
   "outputs": [
    {
     "name": "stderr",
     "output_type": "stream",
     "text": [
      "/Users/patrickrue/opt/anaconda3/envs/dev/lib/python3.7/site-packages/pandas/core/frame.py:4913: SettingWithCopyWarning: \n",
      "A value is trying to be set on a copy of a slice from a DataFrame\n",
      "\n",
      "See the caveats in the documentation: https://pandas.pydata.org/pandas-docs/stable/user_guide/indexing.html#returning-a-view-versus-a-copy\n",
      "  errors=errors,\n"
     ]
    }
   ],
   "source": [
    "df_kaggle_new.drop(columns=['SALE DATE'], inplace=True)"
   ]
  },
  {
   "cell_type": "code",
   "execution_count": 25,
   "id": "3edcd31e-59aa-4d59-b52b-b73d50bd3e5a",
   "metadata": {},
   "outputs": [
    {
     "name": "stderr",
     "output_type": "stream",
     "text": [
      "/Users/patrickrue/opt/anaconda3/envs/dev/lib/python3.7/site-packages/pandas/core/indexing.py:1817: SettingWithCopyWarning: \n",
      "A value is trying to be set on a copy of a slice from a DataFrame.\n",
      "Try using .loc[row_indexer,col_indexer] = value instead\n",
      "\n",
      "See the caveats in the documentation: https://pandas.pydata.org/pandas-docs/stable/user_guide/indexing.html#returning-a-view-versus-a-copy\n",
      "  self._setitem_single_column(loc, value, pi)\n"
     ]
    }
   ],
   "source": [
    "# update borough codes to borough names \n",
    "# 1 = MANHATTAN\n",
    "#  2 = BRONX\n",
    "#  3 = BROOKLYN\n",
    "#  4 = QUEENS\n",
    "#  5 = STATEN ISLAND \n",
    "\n",
    "df_kaggle_new.loc[(df_kaggle_new['BOROUGH'] == 1),'BOROUGH'] ='MANHATTAN'\n",
    "df_kaggle_new.loc[(df_kaggle_new['BOROUGH'] == 2),'BOROUGH'] = 'BRONX'\n",
    "df_kaggle_new.loc[(df_kaggle_new['BOROUGH'] == 3),'BOROUGH'] = 'BROOKLYN'\n",
    "df_kaggle_new.loc[(df_kaggle_new['BOROUGH'] == 4),'BOROUGH'] = 'QUEENS'\n",
    "df_kaggle_new.loc[(df_kaggle_new['BOROUGH'] == 5),'BOROUGH'] = 'STATEN ISLAND'"
   ]
  },
  {
   "cell_type": "code",
   "execution_count": 26,
   "id": "5e1cf6b9-f0ad-4167-8979-6165b05579dc",
   "metadata": {},
   "outputs": [
    {
     "data": {
      "text/html": [
       "<div>\n",
       "<style scoped>\n",
       "    .dataframe tbody tr th:only-of-type {\n",
       "        vertical-align: middle;\n",
       "    }\n",
       "\n",
       "    .dataframe tbody tr th {\n",
       "        vertical-align: top;\n",
       "    }\n",
       "\n",
       "    .dataframe thead th {\n",
       "        text-align: right;\n",
       "    }\n",
       "</style>\n",
       "<table border=\"1\" class=\"dataframe\">\n",
       "  <thead>\n",
       "    <tr style=\"text-align: right;\">\n",
       "      <th></th>\n",
       "      <th>BOROUGH</th>\n",
       "      <th>NEIGHBORHOOD</th>\n",
       "      <th>BUILDING CLASS CATEGORY</th>\n",
       "      <th>ADDRESS</th>\n",
       "      <th>ZIP CODE</th>\n",
       "      <th>LAND SQUARE FEET</th>\n",
       "      <th>GROSS SQUARE FEET</th>\n",
       "      <th>YEAR BUILT</th>\n",
       "      <th>SALE PRICE</th>\n",
       "    </tr>\n",
       "  </thead>\n",
       "  <tbody>\n",
       "    <tr>\n",
       "      <th>0</th>\n",
       "      <td>MANHATTAN</td>\n",
       "      <td>ALPHABET CITY</td>\n",
       "      <td>02  TWO FAMILY HOMES</td>\n",
       "      <td>746 EAST 6 STREET</td>\n",
       "      <td>10009</td>\n",
       "      <td>2134</td>\n",
       "      <td>3542</td>\n",
       "      <td>1899</td>\n",
       "      <td>1800000</td>\n",
       "    </tr>\n",
       "    <tr>\n",
       "      <th>3</th>\n",
       "      <td>MANHATTAN</td>\n",
       "      <td>ALPHABET CITY</td>\n",
       "      <td>07  RENTALS - WALKUP APARTMENTS</td>\n",
       "      <td>125 AVENUE D</td>\n",
       "      <td>10009</td>\n",
       "      <td>2185</td>\n",
       "      <td>5725</td>\n",
       "      <td>1910</td>\n",
       "      <td>426000</td>\n",
       "    </tr>\n",
       "    <tr>\n",
       "      <th>11</th>\n",
       "      <td>MANHATTAN</td>\n",
       "      <td>ALPHABET CITY</td>\n",
       "      <td>07  RENTALS - WALKUP APARTMENTS</td>\n",
       "      <td>14 AVENUE A</td>\n",
       "      <td>10009</td>\n",
       "      <td>2377</td>\n",
       "      <td>8722</td>\n",
       "      <td>1900</td>\n",
       "      <td>1600000</td>\n",
       "    </tr>\n",
       "    <tr>\n",
       "      <th>12</th>\n",
       "      <td>MANHATTAN</td>\n",
       "      <td>ALPHABET CITY</td>\n",
       "      <td>07  RENTALS - WALKUP APARTMENTS</td>\n",
       "      <td>536 EAST 6 STREET</td>\n",
       "      <td>10009</td>\n",
       "      <td>1957</td>\n",
       "      <td>6200</td>\n",
       "      <td>1920</td>\n",
       "      <td>1060000</td>\n",
       "    </tr>\n",
       "    <tr>\n",
       "      <th>15</th>\n",
       "      <td>MANHATTAN</td>\n",
       "      <td>ALPHABET CITY</td>\n",
       "      <td>07  RENTALS - WALKUP APARTMENTS</td>\n",
       "      <td>228 AVENUE B</td>\n",
       "      <td>10009</td>\n",
       "      <td>2842</td>\n",
       "      <td>12613</td>\n",
       "      <td>1900</td>\n",
       "      <td>3200000</td>\n",
       "    </tr>\n",
       "  </tbody>\n",
       "</table>\n",
       "</div>"
      ],
      "text/plain": [
       "      BOROUGH               NEIGHBORHOOD  \\\n",
       "0   MANHATTAN  ALPHABET CITY               \n",
       "3   MANHATTAN  ALPHABET CITY               \n",
       "11  MANHATTAN  ALPHABET CITY               \n",
       "12  MANHATTAN  ALPHABET CITY               \n",
       "15  MANHATTAN  ALPHABET CITY               \n",
       "\n",
       "                         BUILDING CLASS CATEGORY  \\\n",
       "0   02  TWO FAMILY HOMES                           \n",
       "3   07  RENTALS - WALKUP APARTMENTS                \n",
       "11  07  RENTALS - WALKUP APARTMENTS                \n",
       "12  07  RENTALS - WALKUP APARTMENTS                \n",
       "15  07  RENTALS - WALKUP APARTMENTS                \n",
       "\n",
       "                                      ADDRESS  ZIP CODE  LAND SQUARE FEET  \\\n",
       "0   746 EAST 6 STREET                             10009              2134   \n",
       "3   125 AVENUE D                                  10009              2185   \n",
       "11  14 AVENUE A                                   10009              2377   \n",
       "12  536 EAST 6 STREET                             10009              1957   \n",
       "15  228 AVENUE B                                  10009              2842   \n",
       "\n",
       "    GROSS SQUARE FEET  YEAR BUILT  SALE PRICE  \n",
       "0                3542        1899     1800000  \n",
       "3                5725        1910      426000  \n",
       "11               8722        1900     1600000  \n",
       "12               6200        1920     1060000  \n",
       "15              12613        1900     3200000  "
      ]
     },
     "execution_count": 26,
     "metadata": {},
     "output_type": "execute_result"
    }
   ],
   "source": [
    "df_kaggle_new.head()"
   ]
  },
  {
   "cell_type": "code",
   "execution_count": 27,
   "id": "6ae9f222-cdfa-4871-aaa4-b8f130b5a531",
   "metadata": {},
   "outputs": [
    {
     "data": {
      "text/plain": [
       "(802833, 9)"
      ]
     },
     "execution_count": 27,
     "metadata": {},
     "output_type": "execute_result"
    }
   ],
   "source": [
    "df_kaggle_new.shape"
   ]
  },
  {
   "cell_type": "code",
   "execution_count": 28,
   "id": "21d1a559-a176-4af8-803c-df9dee1c6161",
   "metadata": {},
   "outputs": [
    {
     "name": "stderr",
     "output_type": "stream",
     "text": [
      "/Users/patrickrue/opt/anaconda3/envs/dev/lib/python3.7/site-packages/pandas/util/_decorators.py:311: SettingWithCopyWarning: \n",
      "A value is trying to be set on a copy of a slice from a DataFrame\n",
      "\n",
      "See the caveats in the documentation: https://pandas.pydata.org/pandas-docs/stable/user_guide/indexing.html#returning-a-view-versus-a-copy\n",
      "  return func(*args, **kwargs)\n"
     ]
    }
   ],
   "source": [
    "# dropping duplicate columns \n",
    "df_kaggle_new.drop_duplicates(inplace=True)"
   ]
  },
  {
   "cell_type": "code",
   "execution_count": 29,
   "id": "7616f4ff-e887-4f80-b108-567c6fdb5ee6",
   "metadata": {},
   "outputs": [
    {
     "data": {
      "text/plain": [
       "(784210, 9)"
      ]
     },
     "execution_count": 29,
     "metadata": {},
     "output_type": "execute_result"
    }
   ],
   "source": [
    "df_kaggle_new.shape"
   ]
  },
  {
   "cell_type": "code",
   "execution_count": 30,
   "id": "b8753439-a844-4a16-b0c7-e2ba3dc09940",
   "metadata": {},
   "outputs": [],
   "source": [
    "# filtering the dataset for only family dwelling house categories \n",
    "\n",
    "df_kaggle_new = df_kaggle_new[df_kaggle_new[\"BUILDING CLASS CATEGORY\"].str.contains(\"WALKUP APARTMENTS\")==False]\n",
    "df_kaggle_new = df_kaggle_new[df_kaggle_new[\"BUILDING CLASS CATEGORY\"].str.contains(\"STORE BUILDINGS\")==False]\n",
    "df_kaggle_new = df_kaggle_new[df_kaggle_new[\"BUILDING CLASS CATEGORY\"].str.contains(\"COMMERCIAL GARAGES\")==False]\n",
    "df_kaggle_new = df_kaggle_new[df_kaggle_new[\"BUILDING CLASS CATEGORY\"].str.contains(\"CULTURAL FACILITIES\")==False]\n",
    "df_kaggle_new = df_kaggle_new[df_kaggle_new[\"BUILDING CLASS CATEGORY\"].str.contains(\"WAREHOUSES\")==False]\n",
    "df_kaggle_new = df_kaggle_new[df_kaggle_new[\"BUILDING CLASS CATEGORY\"].str.contains(\"OFFICE BUILDINGS\")==False]\n",
    "df_kaggle_new = df_kaggle_new[df_kaggle_new[\"BUILDING CLASS CATEGORY\"].str.contains(\"ELEVATOR APARTMENTS\")==False]\n",
    "df_kaggle_new = df_kaggle_new[df_kaggle_new[\"BUILDING CLASS CATEGORY\"].str.contains(\"LOFT BUILDINGS\")==False]\n",
    "df_kaggle_new = df_kaggle_new[df_kaggle_new[\"BUILDING CLASS CATEGORY\"].str.contains(\"HOTEL\")==False]\n",
    "df_kaggle_new = df_kaggle_new[df_kaggle_new[\"BUILDING CLASS CATEGORY\"].str.contains(\"FACILITIES\")==False]\n",
    "df_kaggle_new = df_kaggle_new[df_kaggle_new[\"BUILDING CLASS CATEGORY\"].str.contains(\"TAX CLASS\")==False]\n",
    "df_kaggle_new = df_kaggle_new[df_kaggle_new[\"BUILDING CLASS CATEGORY\"].str.contains(\"FACTORIES\")==False]\n",
    "df_kaggle_new = df_kaggle_new[df_kaggle_new[\"BUILDING CLASS CATEGORY\"].str.contains(\"ASYLUMS\")==False]\n",
    "df_kaggle_new = df_kaggle_new[df_kaggle_new[\"BUILDING CLASS CATEGORY\"].str.contains(\"CULTURAL\")==False]\n",
    "df_kaggle_new = df_kaggle_new[df_kaggle_new[\"BUILDING CLASS CATEGORY\"].str.contains(\"THEATRES\")==False]\n",
    "df_kaggle_new = df_kaggle_new[df_kaggle_new[\"BUILDING CLASS CATEGORY\"].str.contains(\"BILLING\")==False]\n",
    "df_kaggle_new = df_kaggle_new[df_kaggle_new[\"BUILDING CLASS CATEGORY\"].str.contains(\"COMMERCIAL\")==False]\n",
    "df_kaggle_new = df_kaggle_new[df_kaggle_new[\"BUILDING CLASS CATEGORY\"].str.contains(\"PARKING\")==False]\n",
    "df_kaggle_new = df_kaggle_new[df_kaggle_new[\"BUILDING CLASS CATEGORY\"].str.contains(\"CONDOPS\")==False]\n",
    "df_kaggle_new = df_kaggle_new[df_kaggle_new[\"BUILDING CLASS CATEGORY\"].str.contains(\"RENTALS\")==False]\n",
    "df_kaggle_new = df_kaggle_new[df_kaggle_new[\"BUILDING CLASS CATEGORY\"].str.contains(\"CONDO COOPS\")==False]"
   ]
  },
  {
   "cell_type": "code",
   "execution_count": null,
   "id": "93fdb5e9-1cec-4101-a84d-43081b2a2bb2",
   "metadata": {},
   "outputs": [],
   "source": []
  },
  {
   "cell_type": "code",
   "execution_count": 31,
   "id": "121c62ed-0e2e-4844-9ffb-687d7e5463be",
   "metadata": {},
   "outputs": [
    {
     "data": {
      "text/plain": [
       "(389173, 9)"
      ]
     },
     "execution_count": 31,
     "metadata": {},
     "output_type": "execute_result"
    }
   ],
   "source": [
    "df_kaggle_new.shape"
   ]
  },
  {
   "cell_type": "code",
   "execution_count": 32,
   "id": "c5896fc5-4ad9-4bbb-b46a-0d399fe9af59",
   "metadata": {},
   "outputs": [
    {
     "data": {
      "text/html": [
       "<div>\n",
       "<style scoped>\n",
       "    .dataframe tbody tr th:only-of-type {\n",
       "        vertical-align: middle;\n",
       "    }\n",
       "\n",
       "    .dataframe tbody tr th {\n",
       "        vertical-align: top;\n",
       "    }\n",
       "\n",
       "    .dataframe thead th {\n",
       "        text-align: right;\n",
       "    }\n",
       "</style>\n",
       "<table border=\"1\" class=\"dataframe\">\n",
       "  <thead>\n",
       "    <tr style=\"text-align: right;\">\n",
       "      <th></th>\n",
       "      <th>BOROUGH</th>\n",
       "      <th>NEIGHBORHOOD</th>\n",
       "      <th>BUILDING CLASS CATEGORY</th>\n",
       "      <th>ADDRESS</th>\n",
       "      <th>ZIP CODE</th>\n",
       "      <th>LAND SQUARE FEET</th>\n",
       "      <th>GROSS SQUARE FEET</th>\n",
       "      <th>YEAR BUILT</th>\n",
       "      <th>SALE PRICE</th>\n",
       "    </tr>\n",
       "  </thead>\n",
       "  <tbody>\n",
       "    <tr>\n",
       "      <th>0</th>\n",
       "      <td>MANHATTAN</td>\n",
       "      <td>ALPHABET CITY</td>\n",
       "      <td>02  TWO FAMILY HOMES</td>\n",
       "      <td>746 EAST 6 STREET</td>\n",
       "      <td>10009</td>\n",
       "      <td>2134</td>\n",
       "      <td>3542</td>\n",
       "      <td>1899</td>\n",
       "      <td>1800000</td>\n",
       "    </tr>\n",
       "    <tr>\n",
       "      <th>125</th>\n",
       "      <td>MANHATTAN</td>\n",
       "      <td>ALPHABET CITY</td>\n",
       "      <td>15  CONDOS - 2-10 UNIT RESIDENTIAL</td>\n",
       "      <td>305 EAST 4 STREET</td>\n",
       "      <td>10009</td>\n",
       "      <td>0</td>\n",
       "      <td>0</td>\n",
       "      <td>0</td>\n",
       "      <td>400000</td>\n",
       "    </tr>\n",
       "    <tr>\n",
       "      <th>130</th>\n",
       "      <td>MANHATTAN</td>\n",
       "      <td>ALPHABET CITY</td>\n",
       "      <td>15  CONDOS - 2-10 UNIT RESIDENTIAL</td>\n",
       "      <td>366 EAST 8 STREET</td>\n",
       "      <td>10009</td>\n",
       "      <td>0</td>\n",
       "      <td>0</td>\n",
       "      <td>0</td>\n",
       "      <td>912500</td>\n",
       "    </tr>\n",
       "    <tr>\n",
       "      <th>134</th>\n",
       "      <td>MANHATTAN</td>\n",
       "      <td>ALPHABET CITY</td>\n",
       "      <td>15  CONDOS - 2-10 UNIT RESIDENTIAL</td>\n",
       "      <td>645 EAST 11 STREET</td>\n",
       "      <td>10009</td>\n",
       "      <td>0</td>\n",
       "      <td>0</td>\n",
       "      <td>0</td>\n",
       "      <td>390000</td>\n",
       "    </tr>\n",
       "    <tr>\n",
       "      <th>166</th>\n",
       "      <td>MANHATTAN</td>\n",
       "      <td>CHELSEA</td>\n",
       "      <td>02  TWO FAMILY HOMES</td>\n",
       "      <td>362 WEST 19 STREET</td>\n",
       "      <td>10011</td>\n",
       "      <td>1393</td>\n",
       "      <td>2340</td>\n",
       "      <td>1930</td>\n",
       "      <td>1500000</td>\n",
       "    </tr>\n",
       "    <tr>\n",
       "      <th>167</th>\n",
       "      <td>MANHATTAN</td>\n",
       "      <td>CHELSEA</td>\n",
       "      <td>02  TWO FAMILY HOMES</td>\n",
       "      <td>338 WEST 23 STREET</td>\n",
       "      <td>10011</td>\n",
       "      <td>2469</td>\n",
       "      <td>5400</td>\n",
       "      <td>1901</td>\n",
       "      <td>3400000</td>\n",
       "    </tr>\n",
       "    <tr>\n",
       "      <th>170</th>\n",
       "      <td>MANHATTAN</td>\n",
       "      <td>CHELSEA</td>\n",
       "      <td>03  THREE FAMILY HOMES</td>\n",
       "      <td>355 WEST 19 STREET</td>\n",
       "      <td>10011</td>\n",
       "      <td>1564</td>\n",
       "      <td>3264</td>\n",
       "      <td>1910</td>\n",
       "      <td>2525000</td>\n",
       "    </tr>\n",
       "  </tbody>\n",
       "</table>\n",
       "</div>"
      ],
      "text/plain": [
       "       BOROUGH               NEIGHBORHOOD  \\\n",
       "0    MANHATTAN  ALPHABET CITY               \n",
       "125  MANHATTAN  ALPHABET CITY               \n",
       "130  MANHATTAN  ALPHABET CITY               \n",
       "134  MANHATTAN  ALPHABET CITY               \n",
       "166  MANHATTAN  CHELSEA                     \n",
       "167  MANHATTAN  CHELSEA                     \n",
       "170  MANHATTAN  CHELSEA                     \n",
       "\n",
       "                          BUILDING CLASS CATEGORY  \\\n",
       "0    02  TWO FAMILY HOMES                           \n",
       "125  15  CONDOS - 2-10 UNIT RESIDENTIAL             \n",
       "130  15  CONDOS - 2-10 UNIT RESIDENTIAL             \n",
       "134  15  CONDOS - 2-10 UNIT RESIDENTIAL             \n",
       "166  02  TWO FAMILY HOMES                           \n",
       "167  02  TWO FAMILY HOMES                           \n",
       "170  03  THREE FAMILY HOMES                         \n",
       "\n",
       "                                       ADDRESS  ZIP CODE  LAND SQUARE FEET  \\\n",
       "0    746 EAST 6 STREET                             10009              2134   \n",
       "125  305 EAST 4 STREET                             10009                 0   \n",
       "130  366 EAST 8 STREET                             10009                 0   \n",
       "134  645 EAST 11 STREET                            10009                 0   \n",
       "166  362 WEST 19 STREET                            10011              1393   \n",
       "167  338 WEST 23 STREET                            10011              2469   \n",
       "170  355 WEST 19 STREET                            10011              1564   \n",
       "\n",
       "     GROSS SQUARE FEET  YEAR BUILT  SALE PRICE  \n",
       "0                 3542        1899     1800000  \n",
       "125                  0           0      400000  \n",
       "130                  0           0      912500  \n",
       "134                  0           0      390000  \n",
       "166               2340        1930     1500000  \n",
       "167               5400        1901     3400000  \n",
       "170               3264        1910     2525000  "
      ]
     },
     "metadata": {},
     "output_type": "display_data"
    }
   ],
   "source": [
    "display(df_kaggle_new.head(7))"
   ]
  },
  {
   "cell_type": "code",
   "execution_count": 33,
   "id": "9d565e1f-c16c-4ca3-8a68-876edf2dc08d",
   "metadata": {},
   "outputs": [
    {
     "data": {
      "text/plain": [
       "Index(['BOROUGH', 'NEIGHBORHOOD', 'BUILDING CLASS CATEGORY', 'ADDRESS',\n",
       "       'ZIP CODE', 'LAND SQUARE FEET', 'GROSS SQUARE FEET', 'YEAR BUILT',\n",
       "       'SALE PRICE'],\n",
       "      dtype='object')"
      ]
     },
     "execution_count": 33,
     "metadata": {},
     "output_type": "execute_result"
    }
   ],
   "source": [
    "df_kaggle_new.columns"
   ]
  },
  {
   "cell_type": "code",
   "execution_count": 34,
   "id": "a4a59bfb-ab3d-482d-bd77-3cae5bb44c82",
   "metadata": {},
   "outputs": [],
   "source": [
    "# dropping rows with land sqr feet  less than 750 \n",
    "df_kaggle_new = df_kaggle_new[df_kaggle_new['LAND SQUARE FEET'] > 750]"
   ]
  },
  {
   "cell_type": "code",
   "execution_count": 35,
   "id": "674efacf-2238-42cd-b333-0064e20fe782",
   "metadata": {},
   "outputs": [],
   "source": [
    "# dropping rows with gross sqr feet  less than 750 \n",
    "df_kaggle_new = df_kaggle_new[df_kaggle_new['GROSS SQUARE FEET'] > 750]"
   ]
  },
  {
   "cell_type": "code",
   "execution_count": 36,
   "id": "1027a01f-ff08-42c2-a9ac-8df2993bb245",
   "metadata": {},
   "outputs": [],
   "source": [
    "# dropping rows with year built less than 1940\n",
    "df_kaggle_new = df_kaggle_new[df_kaggle_new['YEAR BUILT'] > 1940]"
   ]
  },
  {
   "cell_type": "code",
   "execution_count": 37,
   "id": "4f9ddf3e-9a19-4ad9-8841-a269f5e87dba",
   "metadata": {},
   "outputs": [],
   "source": [
    "# remove and row with zip code as zero \n",
    "df_kaggle_new = df_kaggle_new[df_kaggle_new['ZIP CODE'] > 0]"
   ]
  },
  {
   "cell_type": "code",
   "execution_count": 38,
   "id": "b25c91cd-6421-42ae-95a7-2a46f8922865",
   "metadata": {},
   "outputs": [
    {
     "data": {
      "text/plain": [
       "1941"
      ]
     },
     "execution_count": 38,
     "metadata": {},
     "output_type": "execute_result"
    }
   ],
   "source": [
    "df_kaggle_new['YEAR BUILT'].min()"
   ]
  },
  {
   "cell_type": "code",
   "execution_count": 39,
   "id": "0d78564a-16fa-4a64-a428-aeee2206efcf",
   "metadata": {},
   "outputs": [
    {
     "data": {
      "text/plain": [
       "2019"
      ]
     },
     "execution_count": 39,
     "metadata": {},
     "output_type": "execute_result"
    }
   ],
   "source": [
    "df_kaggle_new['YEAR BUILT'].max()"
   ]
  },
  {
   "cell_type": "code",
   "execution_count": 40,
   "id": "35a401ba-6ddb-4122-bfe5-e1e683793d4a",
   "metadata": {},
   "outputs": [
    {
     "data": {
      "text/plain": [
       "10001"
      ]
     },
     "execution_count": 40,
     "metadata": {},
     "output_type": "execute_result"
    }
   ],
   "source": [
    "df_kaggle_new['ZIP CODE'].min()"
   ]
  },
  {
   "cell_type": "code",
   "execution_count": 41,
   "id": "3c501f7b-c621-4415-ad59-2913d3ee6f90",
   "metadata": {},
   "outputs": [
    {
     "data": {
      "text/plain": [
       "11697"
      ]
     },
     "execution_count": 41,
     "metadata": {},
     "output_type": "execute_result"
    }
   ],
   "source": [
    "df_kaggle_new['ZIP CODE'].max()"
   ]
  },
  {
   "cell_type": "code",
   "execution_count": null,
   "id": "7b46ffe7-e1c3-4421-beb4-4761763e973f",
   "metadata": {},
   "outputs": [],
   "source": []
  },
  {
   "cell_type": "code",
   "execution_count": 42,
   "id": "9ee2e04d-d28d-4dfb-a694-5fb10538d2e1",
   "metadata": {},
   "outputs": [
    {
     "data": {
      "text/html": [
       "<div>\n",
       "<style scoped>\n",
       "    .dataframe tbody tr th:only-of-type {\n",
       "        vertical-align: middle;\n",
       "    }\n",
       "\n",
       "    .dataframe tbody tr th {\n",
       "        vertical-align: top;\n",
       "    }\n",
       "\n",
       "    .dataframe thead th {\n",
       "        text-align: right;\n",
       "    }\n",
       "</style>\n",
       "<table border=\"1\" class=\"dataframe\">\n",
       "  <thead>\n",
       "    <tr style=\"text-align: right;\">\n",
       "      <th></th>\n",
       "      <th>BOROUGH</th>\n",
       "      <th>NEIGHBORHOOD</th>\n",
       "      <th>BUILDING CLASS CATEGORY</th>\n",
       "      <th>ADDRESS</th>\n",
       "      <th>ZIP CODE</th>\n",
       "      <th>LAND SQUARE FEET</th>\n",
       "      <th>GROSS SQUARE FEET</th>\n",
       "      <th>YEAR BUILT</th>\n",
       "      <th>SALE PRICE</th>\n",
       "    </tr>\n",
       "  </thead>\n",
       "  <tbody>\n",
       "    <tr>\n",
       "      <th>2338</th>\n",
       "      <td>MANHATTAN</td>\n",
       "      <td>GRAMERCY</td>\n",
       "      <td>02  TWO FAMILY HOMES</td>\n",
       "      <td>349 2 AVENUE</td>\n",
       "      <td>10010</td>\n",
       "      <td>1580</td>\n",
       "      <td>11620</td>\n",
       "      <td>2009</td>\n",
       "      <td>1150000</td>\n",
       "    </tr>\n",
       "    <tr>\n",
       "      <th>4456</th>\n",
       "      <td>MANHATTAN</td>\n",
       "      <td>HARLEM-CENTRAL</td>\n",
       "      <td>02  TWO FAMILY HOMES</td>\n",
       "      <td>213 WEST 121 STREET</td>\n",
       "      <td>10027</td>\n",
       "      <td>2523</td>\n",
       "      <td>4600</td>\n",
       "      <td>2002</td>\n",
       "      <td>502693</td>\n",
       "    </tr>\n",
       "    <tr>\n",
       "      <th>4459</th>\n",
       "      <td>MANHATTAN</td>\n",
       "      <td>HARLEM-CENTRAL</td>\n",
       "      <td>02  TWO FAMILY HOMES</td>\n",
       "      <td>267 WEST 122 STREET</td>\n",
       "      <td>10027</td>\n",
       "      <td>2018</td>\n",
       "      <td>3680</td>\n",
       "      <td>2002</td>\n",
       "      <td>466157</td>\n",
       "    </tr>\n",
       "    <tr>\n",
       "      <th>4478</th>\n",
       "      <td>MANHATTAN</td>\n",
       "      <td>HARLEM-CENTRAL</td>\n",
       "      <td>03  THREE FAMILY HOMES</td>\n",
       "      <td>55 EAST 118 STREET</td>\n",
       "      <td>10035</td>\n",
       "      <td>2018</td>\n",
       "      <td>4000</td>\n",
       "      <td>2001</td>\n",
       "      <td>550755</td>\n",
       "    </tr>\n",
       "    <tr>\n",
       "      <th>4479</th>\n",
       "      <td>MANHATTAN</td>\n",
       "      <td>HARLEM-CENTRAL</td>\n",
       "      <td>03  THREE FAMILY HOMES</td>\n",
       "      <td>63 EAST 118 STREET</td>\n",
       "      <td>10035</td>\n",
       "      <td>2018</td>\n",
       "      <td>4000</td>\n",
       "      <td>2001</td>\n",
       "      <td>550755</td>\n",
       "    </tr>\n",
       "    <tr>\n",
       "      <th>...</th>\n",
       "      <td>...</td>\n",
       "      <td>...</td>\n",
       "      <td>...</td>\n",
       "      <td>...</td>\n",
       "      <td>...</td>\n",
       "      <td>...</td>\n",
       "      <td>...</td>\n",
       "      <td>...</td>\n",
       "      <td>...</td>\n",
       "    </tr>\n",
       "    <tr>\n",
       "      <th>1600191</th>\n",
       "      <td>STATEN ISLAND</td>\n",
       "      <td>WOODROW</td>\n",
       "      <td>02 TWO FAMILY DWELLINGS</td>\n",
       "      <td>33 QUAIL LANE</td>\n",
       "      <td>10309</td>\n",
       "      <td>2255</td>\n",
       "      <td>2377</td>\n",
       "      <td>1998</td>\n",
       "      <td>640000</td>\n",
       "    </tr>\n",
       "    <tr>\n",
       "      <th>1600192</th>\n",
       "      <td>STATEN ISLAND</td>\n",
       "      <td>WOODROW</td>\n",
       "      <td>02 TWO FAMILY DWELLINGS</td>\n",
       "      <td>22 HERRICK AVENUE</td>\n",
       "      <td>10309</td>\n",
       "      <td>4000</td>\n",
       "      <td>2400</td>\n",
       "      <td>2000</td>\n",
       "      <td>917000</td>\n",
       "    </tr>\n",
       "    <tr>\n",
       "      <th>1600194</th>\n",
       "      <td>STATEN ISLAND</td>\n",
       "      <td>WOODROW</td>\n",
       "      <td>02 TWO FAMILY DWELLINGS</td>\n",
       "      <td>62 AMBASSADOR LA</td>\n",
       "      <td>10309</td>\n",
       "      <td>2340</td>\n",
       "      <td>2160</td>\n",
       "      <td>2001</td>\n",
       "      <td>610000</td>\n",
       "    </tr>\n",
       "    <tr>\n",
       "      <th>1600195</th>\n",
       "      <td>STATEN ISLAND</td>\n",
       "      <td>WOODROW</td>\n",
       "      <td>02 TWO FAMILY DWELLINGS</td>\n",
       "      <td>104 AMBASSADOR LANE</td>\n",
       "      <td>10309</td>\n",
       "      <td>2730</td>\n",
       "      <td>2565</td>\n",
       "      <td>2001</td>\n",
       "      <td>625000</td>\n",
       "    </tr>\n",
       "    <tr>\n",
       "      <th>1600197</th>\n",
       "      <td>STATEN ISLAND</td>\n",
       "      <td>WOODROW</td>\n",
       "      <td>02 TWO FAMILY DWELLINGS</td>\n",
       "      <td>115 AMBASSADOR LANE</td>\n",
       "      <td>10309</td>\n",
       "      <td>8846</td>\n",
       "      <td>1710</td>\n",
       "      <td>2001</td>\n",
       "      <td>637500</td>\n",
       "    </tr>\n",
       "  </tbody>\n",
       "</table>\n",
       "<p>151236 rows × 9 columns</p>\n",
       "</div>"
      ],
      "text/plain": [
       "               BOROUGH               NEIGHBORHOOD  \\\n",
       "2338         MANHATTAN  GRAMERCY                    \n",
       "4456         MANHATTAN  HARLEM-CENTRAL              \n",
       "4459         MANHATTAN  HARLEM-CENTRAL              \n",
       "4478         MANHATTAN  HARLEM-CENTRAL              \n",
       "4479         MANHATTAN  HARLEM-CENTRAL              \n",
       "...                ...                        ...   \n",
       "1600191  STATEN ISLAND                    WOODROW   \n",
       "1600192  STATEN ISLAND                    WOODROW   \n",
       "1600194  STATEN ISLAND                    WOODROW   \n",
       "1600195  STATEN ISLAND                    WOODROW   \n",
       "1600197  STATEN ISLAND                    WOODROW   \n",
       "\n",
       "                              BUILDING CLASS CATEGORY  \\\n",
       "2338     02  TWO FAMILY HOMES                           \n",
       "4456     02  TWO FAMILY HOMES                           \n",
       "4459     02  TWO FAMILY HOMES                           \n",
       "4478     03  THREE FAMILY HOMES                         \n",
       "4479     03  THREE FAMILY HOMES                         \n",
       "...                                               ...   \n",
       "1600191                       02 TWO FAMILY DWELLINGS   \n",
       "1600192                       02 TWO FAMILY DWELLINGS   \n",
       "1600194                       02 TWO FAMILY DWELLINGS   \n",
       "1600195                       02 TWO FAMILY DWELLINGS   \n",
       "1600197                       02 TWO FAMILY DWELLINGS   \n",
       "\n",
       "                                           ADDRESS  ZIP CODE  \\\n",
       "2338     349 2 AVENUE                                  10010   \n",
       "4456     213 WEST 121 STREET                           10027   \n",
       "4459     267 WEST 122 STREET                           10027   \n",
       "4478     55 EAST 118 STREET                            10035   \n",
       "4479     63 EAST 118 STREET                            10035   \n",
       "...                                            ...       ...   \n",
       "1600191                              33 QUAIL LANE     10309   \n",
       "1600192                          22 HERRICK AVENUE     10309   \n",
       "1600194                           62 AMBASSADOR LA     10309   \n",
       "1600195                        104 AMBASSADOR LANE     10309   \n",
       "1600197                        115 AMBASSADOR LANE     10309   \n",
       "\n",
       "         LAND SQUARE FEET  GROSS SQUARE FEET  YEAR BUILT  SALE PRICE  \n",
       "2338                 1580              11620        2009     1150000  \n",
       "4456                 2523               4600        2002      502693  \n",
       "4459                 2018               3680        2002      466157  \n",
       "4478                 2018               4000        2001      550755  \n",
       "4479                 2018               4000        2001      550755  \n",
       "...                   ...                ...         ...         ...  \n",
       "1600191              2255               2377        1998      640000  \n",
       "1600192              4000               2400        2000      917000  \n",
       "1600194              2340               2160        2001      610000  \n",
       "1600195              2730               2565        2001      625000  \n",
       "1600197              8846               1710        2001      637500  \n",
       "\n",
       "[151236 rows x 9 columns]"
      ]
     },
     "metadata": {},
     "output_type": "display_data"
    }
   ],
   "source": [
    "display(df_kaggle_new)"
   ]
  },
  {
   "cell_type": "code",
   "execution_count": 43,
   "id": "8f31f275-a4f4-4311-b312-e946f7fd597f",
   "metadata": {},
   "outputs": [
    {
     "data": {
      "text/plain": [
       "array(['02  TWO FAMILY HOMES                        ',\n",
       "       '03  THREE FAMILY HOMES                      ',\n",
       "       '01  ONE FAMILY HOMES                        ',\n",
       "       '15  CONDOS - 2-10 UNIT RESIDENTIAL          ',\n",
       "       '03  THREE FAMILY DWELLINGS                  ',\n",
       "       '01  ONE FAMILY DWELLINGS                    ',\n",
       "       '02  TWO FAMILY DWELLINGS                    ',\n",
       "       '03 THREE FAMILY DWELLINGS                  ',\n",
       "       '02 TWO FAMILY DWELLINGS                    ',\n",
       "       '01 ONE FAMILY DWELLINGS                    ',\n",
       "       '01 ONE FAMILY DWELLINGS', '15 CONDOS - 2-10 UNIT RESIDENTIAL',\n",
       "       '02 TWO FAMILY DWELLINGS', '03 THREE FAMILY DWELLINGS'],\n",
       "      dtype=object)"
      ]
     },
     "execution_count": 43,
     "metadata": {},
     "output_type": "execute_result"
    }
   ],
   "source": [
    "df_kaggle_new[\"BUILDING CLASS CATEGORY\"].unique()"
   ]
  },
  {
   "cell_type": "code",
   "execution_count": 44,
   "id": "0ede9d5a-c901-4a96-b37a-646d24d59720",
   "metadata": {},
   "outputs": [
    {
     "data": {
      "text/plain": [
       "(151236, 9)"
      ]
     },
     "execution_count": 44,
     "metadata": {},
     "output_type": "execute_result"
    }
   ],
   "source": [
    "df_kaggle_new.shape"
   ]
  },
  {
   "cell_type": "code",
   "execution_count": 45,
   "id": "eacea192-13e3-433f-bd23-2f2ca06558e2",
   "metadata": {},
   "outputs": [
    {
     "data": {
      "text/plain": [
       "Index(['BOROUGH', 'NEIGHBORHOOD', 'BUILDING CLASS CATEGORY', 'ADDRESS',\n",
       "       'ZIP CODE', 'LAND SQUARE FEET', 'GROSS SQUARE FEET', 'YEAR BUILT',\n",
       "       'SALE PRICE'],\n",
       "      dtype='object')"
      ]
     },
     "execution_count": 45,
     "metadata": {},
     "output_type": "execute_result"
    }
   ],
   "source": [
    "df_kaggle_new.columns"
   ]
  },
  {
   "cell_type": "code",
   "execution_count": 46,
   "id": "a57c5455-3e6c-4a4e-b0a1-829880c2ffa9",
   "metadata": {},
   "outputs": [],
   "source": [
    "# updating column names\n",
    "df_kaggle_new.columns = ['BOROUGH', 'NEIGHBORHOOD', 'BUILDING_CATEGORY', 'ADDRESS', \\\n",
    "       'ZIP_CODE', 'LAND_SQR_FT', 'GROSS_SQR_FT', 'YEAR_BUILT', 'PRICE']"
   ]
  },
  {
   "cell_type": "code",
   "execution_count": 47,
   "id": "9a9258ee-99d0-4ca8-a081-e4b0d5010fc6",
   "metadata": {},
   "outputs": [
    {
     "data": {
      "text/html": [
       "<div>\n",
       "<style scoped>\n",
       "    .dataframe tbody tr th:only-of-type {\n",
       "        vertical-align: middle;\n",
       "    }\n",
       "\n",
       "    .dataframe tbody tr th {\n",
       "        vertical-align: top;\n",
       "    }\n",
       "\n",
       "    .dataframe thead th {\n",
       "        text-align: right;\n",
       "    }\n",
       "</style>\n",
       "<table border=\"1\" class=\"dataframe\">\n",
       "  <thead>\n",
       "    <tr style=\"text-align: right;\">\n",
       "      <th></th>\n",
       "      <th>BOROUGH</th>\n",
       "      <th>NEIGHBORHOOD</th>\n",
       "      <th>BUILDING_CATEGORY</th>\n",
       "      <th>ADDRESS</th>\n",
       "      <th>ZIP_CODE</th>\n",
       "      <th>LAND_SQR_FT</th>\n",
       "      <th>GROSS_SQR_FT</th>\n",
       "      <th>YEAR_BUILT</th>\n",
       "      <th>PRICE</th>\n",
       "    </tr>\n",
       "  </thead>\n",
       "  <tbody>\n",
       "    <tr>\n",
       "      <th>2338</th>\n",
       "      <td>MANHATTAN</td>\n",
       "      <td>GRAMERCY</td>\n",
       "      <td>02  TWO FAMILY HOMES</td>\n",
       "      <td>349 2 AVENUE</td>\n",
       "      <td>10010</td>\n",
       "      <td>1580</td>\n",
       "      <td>11620</td>\n",
       "      <td>2009</td>\n",
       "      <td>1150000</td>\n",
       "    </tr>\n",
       "    <tr>\n",
       "      <th>4456</th>\n",
       "      <td>MANHATTAN</td>\n",
       "      <td>HARLEM-CENTRAL</td>\n",
       "      <td>02  TWO FAMILY HOMES</td>\n",
       "      <td>213 WEST 121 STREET</td>\n",
       "      <td>10027</td>\n",
       "      <td>2523</td>\n",
       "      <td>4600</td>\n",
       "      <td>2002</td>\n",
       "      <td>502693</td>\n",
       "    </tr>\n",
       "  </tbody>\n",
       "</table>\n",
       "</div>"
      ],
      "text/plain": [
       "        BOROUGH               NEIGHBORHOOD  \\\n",
       "2338  MANHATTAN  GRAMERCY                    \n",
       "4456  MANHATTAN  HARLEM-CENTRAL              \n",
       "\n",
       "                                 BUILDING_CATEGORY  \\\n",
       "2338  02  TWO FAMILY HOMES                           \n",
       "4456  02  TWO FAMILY HOMES                           \n",
       "\n",
       "                                        ADDRESS  ZIP_CODE  LAND_SQR_FT  \\\n",
       "2338  349 2 AVENUE                                  10010         1580   \n",
       "4456  213 WEST 121 STREET                           10027         2523   \n",
       "\n",
       "      GROSS_SQR_FT  YEAR_BUILT    PRICE  \n",
       "2338         11620        2009  1150000  \n",
       "4456          4600        2002   502693  "
      ]
     },
     "execution_count": 47,
     "metadata": {},
     "output_type": "execute_result"
    }
   ],
   "source": [
    "df_kaggle_new.head(2)"
   ]
  },
  {
   "cell_type": "code",
   "execution_count": 48,
   "id": "d5aad72d-6af5-42b6-bc6d-1b1f6ad9c557",
   "metadata": {},
   "outputs": [],
   "source": [
    "df_kaggle_new = df_kaggle_new.reset_index(drop=True)"
   ]
  },
  {
   "cell_type": "code",
   "execution_count": 49,
   "id": "9e7d9c02-0949-42c7-a6a9-99542d7a9168",
   "metadata": {},
   "outputs": [
    {
     "data": {
      "text/html": [
       "<div>\n",
       "<style scoped>\n",
       "    .dataframe tbody tr th:only-of-type {\n",
       "        vertical-align: middle;\n",
       "    }\n",
       "\n",
       "    .dataframe tbody tr th {\n",
       "        vertical-align: top;\n",
       "    }\n",
       "\n",
       "    .dataframe thead th {\n",
       "        text-align: right;\n",
       "    }\n",
       "</style>\n",
       "<table border=\"1\" class=\"dataframe\">\n",
       "  <thead>\n",
       "    <tr style=\"text-align: right;\">\n",
       "      <th></th>\n",
       "      <th>BOROUGH</th>\n",
       "      <th>NEIGHBORHOOD</th>\n",
       "      <th>BUILDING_CATEGORY</th>\n",
       "      <th>ADDRESS</th>\n",
       "      <th>ZIP_CODE</th>\n",
       "      <th>LAND_SQR_FT</th>\n",
       "      <th>GROSS_SQR_FT</th>\n",
       "      <th>YEAR_BUILT</th>\n",
       "      <th>PRICE</th>\n",
       "    </tr>\n",
       "  </thead>\n",
       "  <tbody>\n",
       "    <tr>\n",
       "      <th>0</th>\n",
       "      <td>MANHATTAN</td>\n",
       "      <td>GRAMERCY</td>\n",
       "      <td>02  TWO FAMILY HOMES</td>\n",
       "      <td>349 2 AVENUE</td>\n",
       "      <td>10010</td>\n",
       "      <td>1580</td>\n",
       "      <td>11620</td>\n",
       "      <td>2009</td>\n",
       "      <td>1150000</td>\n",
       "    </tr>\n",
       "    <tr>\n",
       "      <th>1</th>\n",
       "      <td>MANHATTAN</td>\n",
       "      <td>HARLEM-CENTRAL</td>\n",
       "      <td>02  TWO FAMILY HOMES</td>\n",
       "      <td>213 WEST 121 STREET</td>\n",
       "      <td>10027</td>\n",
       "      <td>2523</td>\n",
       "      <td>4600</td>\n",
       "      <td>2002</td>\n",
       "      <td>502693</td>\n",
       "    </tr>\n",
       "    <tr>\n",
       "      <th>2</th>\n",
       "      <td>MANHATTAN</td>\n",
       "      <td>HARLEM-CENTRAL</td>\n",
       "      <td>02  TWO FAMILY HOMES</td>\n",
       "      <td>267 WEST 122 STREET</td>\n",
       "      <td>10027</td>\n",
       "      <td>2018</td>\n",
       "      <td>3680</td>\n",
       "      <td>2002</td>\n",
       "      <td>466157</td>\n",
       "    </tr>\n",
       "    <tr>\n",
       "      <th>3</th>\n",
       "      <td>MANHATTAN</td>\n",
       "      <td>HARLEM-CENTRAL</td>\n",
       "      <td>03  THREE FAMILY HOMES</td>\n",
       "      <td>55 EAST 118 STREET</td>\n",
       "      <td>10035</td>\n",
       "      <td>2018</td>\n",
       "      <td>4000</td>\n",
       "      <td>2001</td>\n",
       "      <td>550755</td>\n",
       "    </tr>\n",
       "    <tr>\n",
       "      <th>4</th>\n",
       "      <td>MANHATTAN</td>\n",
       "      <td>HARLEM-CENTRAL</td>\n",
       "      <td>03  THREE FAMILY HOMES</td>\n",
       "      <td>63 EAST 118 STREET</td>\n",
       "      <td>10035</td>\n",
       "      <td>2018</td>\n",
       "      <td>4000</td>\n",
       "      <td>2001</td>\n",
       "      <td>550755</td>\n",
       "    </tr>\n",
       "  </tbody>\n",
       "</table>\n",
       "</div>"
      ],
      "text/plain": [
       "     BOROUGH               NEIGHBORHOOD  \\\n",
       "0  MANHATTAN  GRAMERCY                    \n",
       "1  MANHATTAN  HARLEM-CENTRAL              \n",
       "2  MANHATTAN  HARLEM-CENTRAL              \n",
       "3  MANHATTAN  HARLEM-CENTRAL              \n",
       "4  MANHATTAN  HARLEM-CENTRAL              \n",
       "\n",
       "                              BUILDING_CATEGORY  \\\n",
       "0  02  TWO FAMILY HOMES                           \n",
       "1  02  TWO FAMILY HOMES                           \n",
       "2  02  TWO FAMILY HOMES                           \n",
       "3  03  THREE FAMILY HOMES                         \n",
       "4  03  THREE FAMILY HOMES                         \n",
       "\n",
       "                                     ADDRESS  ZIP_CODE  LAND_SQR_FT  \\\n",
       "0  349 2 AVENUE                                  10010         1580   \n",
       "1  213 WEST 121 STREET                           10027         2523   \n",
       "2  267 WEST 122 STREET                           10027         2018   \n",
       "3  55 EAST 118 STREET                            10035         2018   \n",
       "4  63 EAST 118 STREET                            10035         2018   \n",
       "\n",
       "   GROSS_SQR_FT  YEAR_BUILT    PRICE  \n",
       "0         11620        2009  1150000  \n",
       "1          4600        2002   502693  \n",
       "2          3680        2002   466157  \n",
       "3          4000        2001   550755  \n",
       "4          4000        2001   550755  "
      ]
     },
     "execution_count": 49,
     "metadata": {},
     "output_type": "execute_result"
    }
   ],
   "source": [
    "df_kaggle_new.head()"
   ]
  },
  {
   "cell_type": "code",
   "execution_count": 50,
   "id": "91a50d4b-2396-4a64-89ca-52fd7341c08b",
   "metadata": {},
   "outputs": [],
   "source": [
    "# df_kaggle_new = df_kaggle_new.sample(n = 20000)"
   ]
  },
  {
   "cell_type": "code",
   "execution_count": 51,
   "id": "262f641a-6a70-407f-a7c6-a1d96da57c0c",
   "metadata": {},
   "outputs": [
    {
     "data": {
      "text/plain": [
       "(151236, 9)"
      ]
     },
     "execution_count": 51,
     "metadata": {},
     "output_type": "execute_result"
    }
   ],
   "source": [
    "df_kaggle_new.shape"
   ]
  },
  {
   "cell_type": "code",
   "execution_count": 52,
   "id": "9afe2991-ef9a-436e-bf6f-cb7075e8285b",
   "metadata": {},
   "outputs": [],
   "source": [
    "# randomly select 50,000 rows\n",
    "df_kaggle_new = df_kaggle_new.sample(n=2000)"
   ]
  },
  {
   "cell_type": "code",
   "execution_count": 53,
   "id": "6930d2da-ae5f-46a9-b029-c4c66d261b8f",
   "metadata": {},
   "outputs": [
    {
     "data": {
      "text/plain": [
       "(2000, 9)"
      ]
     },
     "execution_count": 53,
     "metadata": {},
     "output_type": "execute_result"
    }
   ],
   "source": [
    "df_kaggle_new.shape"
   ]
  },
  {
   "cell_type": "markdown",
   "id": "695c53f9-49fe-4e92-b968-4d8e7e339340",
   "metadata": {},
   "source": [
    "# Extract Longitude and latitude from an API and assign the values to the dataframe for each of the addresses\n",
    "\n",
    "\n",
    "https://developer.myptv.com/Documentation/Geocoding%20API/Code%20Samples/Locations%20by%20Address.htm"
   ]
  },
  {
   "cell_type": "code",
   "execution_count": 54,
   "id": "a4d8c77e-d041-4483-9004-33506664d829",
   "metadata": {},
   "outputs": [
    {
     "data": {
      "text/html": [
       "<div>\n",
       "<style scoped>\n",
       "    .dataframe tbody tr th:only-of-type {\n",
       "        vertical-align: middle;\n",
       "    }\n",
       "\n",
       "    .dataframe tbody tr th {\n",
       "        vertical-align: top;\n",
       "    }\n",
       "\n",
       "    .dataframe thead th {\n",
       "        text-align: right;\n",
       "    }\n",
       "</style>\n",
       "<table border=\"1\" class=\"dataframe\">\n",
       "  <thead>\n",
       "    <tr style=\"text-align: right;\">\n",
       "      <th></th>\n",
       "      <th>BOROUGH</th>\n",
       "      <th>NEIGHBORHOOD</th>\n",
       "      <th>BUILDING_CATEGORY</th>\n",
       "      <th>ADDRESS</th>\n",
       "      <th>ZIP_CODE</th>\n",
       "      <th>LAND_SQR_FT</th>\n",
       "      <th>GROSS_SQR_FT</th>\n",
       "      <th>YEAR_BUILT</th>\n",
       "      <th>PRICE</th>\n",
       "      <th>long</th>\n",
       "      <th>lat</th>\n",
       "    </tr>\n",
       "  </thead>\n",
       "  <tbody>\n",
       "    <tr>\n",
       "      <th>24844</th>\n",
       "      <td>BROOKLYN</td>\n",
       "      <td>CANARSIE</td>\n",
       "      <td>02  TWO FAMILY HOMES</td>\n",
       "      <td>1065 EAST 104TH STREET</td>\n",
       "      <td>11236</td>\n",
       "      <td>2000</td>\n",
       "      <td>1635</td>\n",
       "      <td>1955</td>\n",
       "      <td>470000</td>\n",
       "      <td>longitude</td>\n",
       "      <td>lattitude</td>\n",
       "    </tr>\n",
       "    <tr>\n",
       "      <th>83000</th>\n",
       "      <td>QUEENS</td>\n",
       "      <td>ASTORIA</td>\n",
       "      <td>02  TWO FAMILY HOMES</td>\n",
       "      <td>21-13 43RD STREET</td>\n",
       "      <td>11105</td>\n",
       "      <td>1800</td>\n",
       "      <td>1816</td>\n",
       "      <td>1965</td>\n",
       "      <td>515000</td>\n",
       "      <td>longitude</td>\n",
       "      <td>lattitude</td>\n",
       "    </tr>\n",
       "    <tr>\n",
       "      <th>136743</th>\n",
       "      <td>QUEENS</td>\n",
       "      <td>FLUSHING-NORTH</td>\n",
       "      <td>03 THREE FAMILY DWELLINGS</td>\n",
       "      <td>45-33 160TH STREET</td>\n",
       "      <td>11358</td>\n",
       "      <td>3000</td>\n",
       "      <td>3040</td>\n",
       "      <td>1972</td>\n",
       "      <td>1640000</td>\n",
       "      <td>longitude</td>\n",
       "      <td>lattitude</td>\n",
       "    </tr>\n",
       "    <tr>\n",
       "      <th>32521</th>\n",
       "      <td>STATEN ISLAND</td>\n",
       "      <td>ANNADALE</td>\n",
       "      <td>01  ONE FAMILY HOMES</td>\n",
       "      <td>153 NORTH PINE TERRACE</td>\n",
       "      <td>10312</td>\n",
       "      <td>7840</td>\n",
       "      <td>1912</td>\n",
       "      <td>1965</td>\n",
       "      <td>540000</td>\n",
       "      <td>longitude</td>\n",
       "      <td>lattitude</td>\n",
       "    </tr>\n",
       "    <tr>\n",
       "      <th>131510</th>\n",
       "      <td>STATEN ISLAND</td>\n",
       "      <td>OAKWOOD-BEACH</td>\n",
       "      <td>01 ONE FAMILY DWELLINGS</td>\n",
       "      <td>342 FAIRBANKS AVENUE</td>\n",
       "      <td>10306</td>\n",
       "      <td>2300</td>\n",
       "      <td>1152</td>\n",
       "      <td>1970</td>\n",
       "      <td>560000</td>\n",
       "      <td>longitude</td>\n",
       "      <td>lattitude</td>\n",
       "    </tr>\n",
       "  </tbody>\n",
       "</table>\n",
       "</div>"
      ],
      "text/plain": [
       "              BOROUGH               NEIGHBORHOOD  \\\n",
       "24844        BROOKLYN  CANARSIE                    \n",
       "83000          QUEENS  ASTORIA                     \n",
       "136743         QUEENS             FLUSHING-NORTH   \n",
       "32521   STATEN ISLAND  ANNADALE                    \n",
       "131510  STATEN ISLAND              OAKWOOD-BEACH   \n",
       "\n",
       "                                   BUILDING_CATEGORY  \\\n",
       "24844   02  TWO FAMILY HOMES                           \n",
       "83000   02  TWO FAMILY HOMES                           \n",
       "136743                     03 THREE FAMILY DWELLINGS   \n",
       "32521   01  ONE FAMILY HOMES                           \n",
       "131510   01 ONE FAMILY DWELLINGS                       \n",
       "\n",
       "                                          ADDRESS  ZIP_CODE  LAND_SQR_FT  \\\n",
       "24844   1065 EAST 104TH STREET                        11236         2000   \n",
       "83000   21-13 43RD STREET                             11105         1800   \n",
       "136743                         45-33 160TH STREET     11358         3000   \n",
       "32521   153 NORTH PINE TERRACE                        10312         7840   \n",
       "131510                       342 FAIRBANKS AVENUE     10306         2300   \n",
       "\n",
       "        GROSS_SQR_FT  YEAR_BUILT    PRICE       long        lat  \n",
       "24844           1635        1955   470000  longitude  lattitude  \n",
       "83000           1816        1965   515000  longitude  lattitude  \n",
       "136743          3040        1972  1640000  longitude  lattitude  \n",
       "32521           1912        1965   540000  longitude  lattitude  \n",
       "131510          1152        1970   560000  longitude  lattitude  "
      ]
     },
     "execution_count": 54,
     "metadata": {},
     "output_type": "execute_result"
    }
   ],
   "source": [
    "# create longitude and latitude columns \n",
    "df_kaggle_new['long'] = 'longitude'\n",
    "df_kaggle_new['lat'] = 'lattitude'\n",
    "df_kaggle_new.head()"
   ]
  },
  {
   "cell_type": "code",
   "execution_count": 55,
   "id": "0baa99a4-e847-4824-9300-62f0f8a842fc",
   "metadata": {},
   "outputs": [],
   "source": [
    "address = list(df_kaggle_new['ADDRESS'])\n",
    "locality = list(df_kaggle_new['BOROUGH'])\n",
    "zipcode = list(df_kaggle_new['ZIP_CODE'])\n",
    "new_list = list(zip(address, locality, zipcode ))"
   ]
  },
  {
   "cell_type": "code",
   "execution_count": 56,
   "id": "a1d74192-3d44-4e06-b901-2e919ff0563f",
   "metadata": {},
   "outputs": [
    {
     "data": {
      "text/plain": [
       "('1065 EAST 104TH STREET                   ', 'BROOKLYN', 11236)"
      ]
     },
     "execution_count": 56,
     "metadata": {},
     "output_type": "execute_result"
    }
   ],
   "source": [
    "new_list[0]"
   ]
  },
  {
   "cell_type": "code",
   "execution_count": 57,
   "id": "d7160848-c974-4280-aa1c-1fd0b1379ea4",
   "metadata": {},
   "outputs": [],
   "source": [
    "# create the url api variables \n",
    "# extract the long and lattittude \n",
    "# assign the long and lattitude for the addresses \n",
    "for i in range(len(new_list)):\n",
    "    house_address = new_list[i][0].strip()\n",
    "    house_number = new_list[i][0].split(\" \")[0]\n",
    "    address = \" \".join(new_list[i][0].split(\" \")[1:]).strip()\n",
    "    country = \"US\"\n",
    "    zipcode = new_list[i][2]\n",
    "    state = \"NEW YORK\"\n",
    "    locality = new_list[i][1]\n",
    "    # assign variables to the url \n",
    "    url = f\"https://api.myptv.com/geocoding/v1/locations/by-address?country={country}&locality={locality}&postalCode={zipcode} \\\n",
    "    &street={address}&houseNumber={house_number}&countryFilter={country}\"\n",
    "    headers = {'apiKey': \"OWExZjY5NWU2MTc5NDU1ZWFkMmJkYTkxN2FmMWU5MjA6OTI3ZDNhMTctY2Y2OC00NmFjLWI4ZjMtNzdjMTk1N2EyYjQ2\"}\n",
    "    \n",
    "    # response as json object \n",
    "    response = requests.request(\"GET\", url, headers=headers).json()\n",
    "    # create default dict to hold long and lat info\n",
    "    long_lat  = defaultdict(list)\n",
    "    # loop thru each response json object and parse the data \n",
    "    for i in range(len(response['locations'])):\n",
    "        postal_code = response['locations'][i]['address']['postalCode'].split(\"-\")[0]\n",
    "        city = response['locations'][i]['address']['city']\n",
    "        state = response['locations'][i]['address']['state']\n",
    "        if postal_code == f\"{zipcode}\"  and state == 'New York':\n",
    "            long_lat['long_ref'].append(response['locations'][i]['referencePosition']['longitude'])\n",
    "            long_lat['lat_ref'].append(response['locations'][i]['referencePosition']['latitude'])\n",
    "            \n",
    "    # update the long, and lat columns\n",
    "    # sometimes the long_lat dict is empty set default to 0 then \n",
    "    try:\n",
    "        df_kaggle_new.loc[(df_kaggle_new['ADDRESS'].str.contains(f\"{house_address}\")), \"long\"] = max(long_lat['long_ref'])\n",
    "        df_kaggle_new.loc[(df_kaggle_new['ADDRESS'].str.contains(f\"{house_address}\")), \"lat\"] = max(long_lat['lat_ref'])\n",
    "        \n",
    "    except ValueError:\n",
    "        df_kaggle_new.loc[(df_kaggle_new['ADDRESS'].str.contains(f\"{house_address}\")), \"long\"] = 0\n",
    "        df_kaggle_new.loc[(df_kaggle_new['ADDRESS'].str.contains(f\"{house_address}\")), \"lat\"] = 0\n",
    "        "
   ]
  },
  {
   "cell_type": "code",
   "execution_count": 58,
   "id": "da2513b9-fd9c-4f12-8a82-f3f1a3c0a777",
   "metadata": {},
   "outputs": [
    {
     "data": {
      "text/plain": [
       "(2000, 11)"
      ]
     },
     "execution_count": 58,
     "metadata": {},
     "output_type": "execute_result"
    }
   ],
   "source": [
    "df_kaggle_new.shape"
   ]
  },
  {
   "cell_type": "code",
   "execution_count": 146,
   "id": "cdf9ba14-39c0-4e1f-a8de-4f0b71a0eb7d",
   "metadata": {},
   "outputs": [],
   "source": [
    "df_kaggle_new.loc[(df_kaggle_new['BUILDING_CATEGORY'].str.contains('02')), 'BUILDING_CATEGORY'] = 'TWO FAMILY HOMES'"
   ]
  },
  {
   "cell_type": "code",
   "execution_count": 147,
   "id": "fcf78097-4110-46ea-8025-c8dd8334ea8d",
   "metadata": {},
   "outputs": [],
   "source": [
    "df_kaggle_new.loc[(df_kaggle_new['BUILDING_CATEGORY'].str.contains('ONE')), 'BUILDING_CATEGORY'] = 'ONE FAMILY HOME'"
   ]
  },
  {
   "cell_type": "code",
   "execution_count": 148,
   "id": "d33f94d9-4b8f-4d64-8c54-212cc012dc91",
   "metadata": {},
   "outputs": [],
   "source": [
    "df_kaggle_new.loc[(df_kaggle_new['BUILDING_CATEGORY'].str.contains('03 ')), 'BUILDING_CATEGORY'] = 'THREE FAMILY HOMES'"
   ]
  },
  {
   "cell_type": "code",
   "execution_count": 149,
   "id": "d3719219-2962-4888-88eb-9375e00689a9",
   "metadata": {},
   "outputs": [],
   "source": [
    "df_kaggle_new = df_kaggle_new[df_kaggle_new['long'] != 0]"
   ]
  },
  {
   "cell_type": "code",
   "execution_count": 150,
   "id": "c05cba16-d5a2-41b7-870d-4531644f0adb",
   "metadata": {},
   "outputs": [
    {
     "data": {
      "text/html": [
       "<div>\n",
       "<style scoped>\n",
       "    .dataframe tbody tr th:only-of-type {\n",
       "        vertical-align: middle;\n",
       "    }\n",
       "\n",
       "    .dataframe tbody tr th {\n",
       "        vertical-align: top;\n",
       "    }\n",
       "\n",
       "    .dataframe thead th {\n",
       "        text-align: right;\n",
       "    }\n",
       "</style>\n",
       "<table border=\"1\" class=\"dataframe\">\n",
       "  <thead>\n",
       "    <tr style=\"text-align: right;\">\n",
       "      <th></th>\n",
       "      <th>BOROUGH</th>\n",
       "      <th>NEIGHBORHOOD</th>\n",
       "      <th>BUILDING_CATEGORY</th>\n",
       "      <th>ADDRESS</th>\n",
       "      <th>ZIP_CODE</th>\n",
       "      <th>LAND_SQR_FT</th>\n",
       "      <th>GROSS_SQR_FT</th>\n",
       "      <th>YEAR_BUILT</th>\n",
       "      <th>PRICE</th>\n",
       "      <th>long</th>\n",
       "      <th>lat</th>\n",
       "    </tr>\n",
       "  </thead>\n",
       "  <tbody>\n",
       "    <tr>\n",
       "      <th>24844</th>\n",
       "      <td>BROOKLYN</td>\n",
       "      <td>CANARSIE</td>\n",
       "      <td>TWO FAMILY HOMES</td>\n",
       "      <td>1065 EAST 104TH STREET</td>\n",
       "      <td>11236</td>\n",
       "      <td>2000</td>\n",
       "      <td>1635</td>\n",
       "      <td>1955</td>\n",
       "      <td>470000</td>\n",
       "      <td>-73.892036</td>\n",
       "      <td>40.644272</td>\n",
       "    </tr>\n",
       "    <tr>\n",
       "      <th>83000</th>\n",
       "      <td>QUEENS</td>\n",
       "      <td>ASTORIA</td>\n",
       "      <td>TWO FAMILY HOMES</td>\n",
       "      <td>21-13 43RD STREET</td>\n",
       "      <td>11105</td>\n",
       "      <td>1800</td>\n",
       "      <td>1816</td>\n",
       "      <td>1965</td>\n",
       "      <td>515000</td>\n",
       "      <td>-73.901871</td>\n",
       "      <td>40.77264</td>\n",
       "    </tr>\n",
       "  </tbody>\n",
       "</table>\n",
       "</div>"
      ],
      "text/plain": [
       "        BOROUGH               NEIGHBORHOOD BUILDING_CATEGORY  \\\n",
       "24844  BROOKLYN  CANARSIE                   TWO FAMILY HOMES   \n",
       "83000    QUEENS  ASTORIA                    TWO FAMILY HOMES   \n",
       "\n",
       "                                         ADDRESS  ZIP_CODE  LAND_SQR_FT  \\\n",
       "24844  1065 EAST 104TH STREET                        11236         2000   \n",
       "83000  21-13 43RD STREET                             11105         1800   \n",
       "\n",
       "       GROSS_SQR_FT  YEAR_BUILT   PRICE       long        lat  \n",
       "24844          1635        1955  470000 -73.892036  40.644272  \n",
       "83000          1816        1965  515000 -73.901871   40.77264  "
      ]
     },
     "execution_count": 150,
     "metadata": {},
     "output_type": "execute_result"
    }
   ],
   "source": [
    "df_kaggle_new.head(2)"
   ]
  },
  {
   "cell_type": "code",
   "execution_count": 151,
   "id": "ac7b715e-b088-4e1c-8e7d-9b1fd2c2c02e",
   "metadata": {},
   "outputs": [],
   "source": [
    "# write cleaned data to csv \n",
    "df_kaggle_new.to_csv('Resources/cleaned_nyc_housing_data.csv', index=False)"
   ]
  },
  {
   "cell_type": "code",
   "execution_count": null,
   "id": "40a0933e-2a0e-4dea-8687-87796516a28e",
   "metadata": {},
   "outputs": [],
   "source": []
  },
  {
   "cell_type": "markdown",
   "id": "b2997b57-8e38-4b66-a8bf-1bb82736d783",
   "metadata": {},
   "source": [
    "# Houses for Sales in the Boroughs selected."
   ]
  },
  {
   "cell_type": "code",
   "execution_count": 190,
   "id": "96d5d305-e94d-4feb-9b25-aca277aad623",
   "metadata": {},
   "outputs": [],
   "source": [
    "# read the the selected borough data\n",
    "\n",
    "df_houses = pd.read_csv(Path(\"Resources/housing_selected.csv\"))"
   ]
  },
  {
   "cell_type": "code",
   "execution_count": 191,
   "id": "38c2a176-4627-4a2f-861c-0026a0ff4c0e",
   "metadata": {},
   "outputs": [
    {
     "data": {
      "text/html": [
       "<div>\n",
       "<style scoped>\n",
       "    .dataframe tbody tr th:only-of-type {\n",
       "        vertical-align: middle;\n",
       "    }\n",
       "\n",
       "    .dataframe tbody tr th {\n",
       "        vertical-align: top;\n",
       "    }\n",
       "\n",
       "    .dataframe thead th {\n",
       "        text-align: right;\n",
       "    }\n",
       "</style>\n",
       "<table border=\"1\" class=\"dataframe\">\n",
       "  <thead>\n",
       "    <tr style=\"text-align: right;\">\n",
       "      <th></th>\n",
       "      <th>BOROUGH</th>\n",
       "      <th>NEIGHBORHOOD</th>\n",
       "      <th>BUILDING_CATEGORY</th>\n",
       "      <th>ADDRESS</th>\n",
       "      <th>ZIP_CODE</th>\n",
       "      <th>LAND_SQR_FT</th>\n",
       "      <th>GROSS_SQR_FT</th>\n",
       "      <th>YEAR_BUILT</th>\n",
       "      <th>PRICE</th>\n",
       "      <th>long</th>\n",
       "      <th>lat</th>\n",
       "    </tr>\n",
       "  </thead>\n",
       "  <tbody>\n",
       "    <tr>\n",
       "      <th>0</th>\n",
       "      <td>BROOKLYN</td>\n",
       "      <td>WILLIAMSBURG-NORTH</td>\n",
       "      <td>ONE FAMILY HOME</td>\n",
       "      <td>83 GRAND STREET</td>\n",
       "      <td>11249</td>\n",
       "      <td>1331</td>\n",
       "      <td>4032</td>\n",
       "      <td>2017</td>\n",
       "      <td>4450000</td>\n",
       "      <td>-73.964195</td>\n",
       "      <td>40.715740</td>\n",
       "    </tr>\n",
       "    <tr>\n",
       "      <th>1</th>\n",
       "      <td>BROOKLYN</td>\n",
       "      <td>PARK SLOPE</td>\n",
       "      <td>ONE FAMILY HOME</td>\n",
       "      <td>566 CARROLL STREET</td>\n",
       "      <td>11215</td>\n",
       "      <td>1143</td>\n",
       "      <td>3007</td>\n",
       "      <td>2015</td>\n",
       "      <td>3325000</td>\n",
       "      <td>-73.983429</td>\n",
       "      <td>40.675770</td>\n",
       "    </tr>\n",
       "    <tr>\n",
       "      <th>2</th>\n",
       "      <td>BROOKLYN</td>\n",
       "      <td>BROOKLYN HEIGHTS</td>\n",
       "      <td>ONE FAMILY HOME</td>\n",
       "      <td>5 COLUMBIA PLACE</td>\n",
       "      <td>11201</td>\n",
       "      <td>1241</td>\n",
       "      <td>3000</td>\n",
       "      <td>2003</td>\n",
       "      <td>3162500</td>\n",
       "      <td>-73.998306</td>\n",
       "      <td>40.693481</td>\n",
       "    </tr>\n",
       "    <tr>\n",
       "      <th>3</th>\n",
       "      <td>BROOKLYN</td>\n",
       "      <td>FLATBUSH-CENTRAL</td>\n",
       "      <td>ONE FAMILY HOME</td>\n",
       "      <td>1216 ALBEMARLE ROAD</td>\n",
       "      <td>11218</td>\n",
       "      <td>4000</td>\n",
       "      <td>2263</td>\n",
       "      <td>1960</td>\n",
       "      <td>2625000</td>\n",
       "      <td>-73.967682</td>\n",
       "      <td>40.646290</td>\n",
       "    </tr>\n",
       "    <tr>\n",
       "      <th>4</th>\n",
       "      <td>BROOKLYN</td>\n",
       "      <td>PARK SLOPE</td>\n",
       "      <td>15 CONDOS - 2-10 UNIT RESIDENTIAL</td>\n",
       "      <td>701 UNION STREET</td>\n",
       "      <td>11215</td>\n",
       "      <td>2375</td>\n",
       "      <td>1641</td>\n",
       "      <td>2013</td>\n",
       "      <td>2421500</td>\n",
       "      <td>-73.981560</td>\n",
       "      <td>40.676979</td>\n",
       "    </tr>\n",
       "  </tbody>\n",
       "</table>\n",
       "</div>"
      ],
      "text/plain": [
       "    BOROUGH               NEIGHBORHOOD                  BUILDING_CATEGORY  \\\n",
       "0  BROOKLYN         WILLIAMSBURG-NORTH                    ONE FAMILY HOME   \n",
       "1  BROOKLYN                 PARK SLOPE                    ONE FAMILY HOME   \n",
       "2  BROOKLYN  BROOKLYN HEIGHTS                             ONE FAMILY HOME   \n",
       "3  BROOKLYN  FLATBUSH-CENTRAL                             ONE FAMILY HOME   \n",
       "4  BROOKLYN                 PARK SLOPE  15 CONDOS - 2-10 UNIT RESIDENTIAL   \n",
       "\n",
       "                                     ADDRESS  ZIP_CODE  LAND_SQR_FT  \\\n",
       "0                            83 GRAND STREET     11249         1331   \n",
       "1                         566 CARROLL STREET     11215         1143   \n",
       "2  5 COLUMBIA PLACE                              11201         1241   \n",
       "3  1216 ALBEMARLE ROAD                           11218         4000   \n",
       "4                           701 UNION STREET     11215         2375   \n",
       "\n",
       "   GROSS_SQR_FT  YEAR_BUILT    PRICE       long        lat  \n",
       "0          4032        2017  4450000 -73.964195  40.715740  \n",
       "1          3007        2015  3325000 -73.983429  40.675770  \n",
       "2          3000        2003  3162500 -73.998306  40.693481  \n",
       "3          2263        1960  2625000 -73.967682  40.646290  \n",
       "4          1641        2013  2421500 -73.981560  40.676979  "
      ]
     },
     "execution_count": 191,
     "metadata": {},
     "output_type": "execute_result"
    }
   ],
   "source": [
    "df_houses.head()"
   ]
  },
  {
   "cell_type": "code",
   "execution_count": 192,
   "id": "e910a4fe-7367-49a1-90df-44c2336d4914",
   "metadata": {},
   "outputs": [],
   "source": [
    "df_houses_new = df_houses.copy()"
   ]
  },
  {
   "cell_type": "code",
   "execution_count": 193,
   "id": "12bd4f02-7425-4242-bf62-528f7fb959d5",
   "metadata": {},
   "outputs": [],
   "source": [
    "df_houses_new['PRICE'] = df_houses_new['PRICE']/10000"
   ]
  },
  {
   "cell_type": "code",
   "execution_count": 194,
   "id": "4d7294b4-2073-47e6-b28b-91fec3621c02",
   "metadata": {},
   "outputs": [
    {
     "data": {},
     "metadata": {},
     "output_type": "display_data"
    },
    {
     "data": {
      "application/vnd.holoviews_exec.v0+json": "",
      "text/html": [
       "<div id='6248'>\n",
       "\n",
       "\n",
       "\n",
       "\n",
       "\n",
       "  <div class=\"bk-root\" id=\"aeb02e9a-3888-4704-bd0e-cba256fd67b7\" data-root-id=\"6248\"></div>\n",
       "</div>\n",
       "<script type=\"application/javascript\">(function(root) {\n",
       "  function embed_document(root) {\n",
       "    var docs_json = {\"9c5b110b-4bec-40f3-b51f-3d5786cb1c00\":{\"defs\":[{\"extends\":null,\"module\":null,\"name\":\"ReactiveHTML1\",\"overrides\":[],\"properties\":[]},{\"extends\":null,\"module\":null,\"name\":\"FlexBox1\",\"overrides\":[],\"properties\":[{\"default\":\"flex-start\",\"kind\":null,\"name\":\"align_content\"},{\"default\":\"flex-start\",\"kind\":null,\"name\":\"align_items\"},{\"default\":\"row\",\"kind\":null,\"name\":\"flex_direction\"},{\"default\":\"wrap\",\"kind\":null,\"name\":\"flex_wrap\"},{\"default\":\"flex-start\",\"kind\":null,\"name\":\"justify_content\"}]},{\"extends\":null,\"module\":null,\"name\":\"GridStack1\",\"overrides\":[],\"properties\":[{\"default\":\"warn\",\"kind\":null,\"name\":\"mode\"},{\"default\":null,\"kind\":null,\"name\":\"ncols\"},{\"default\":null,\"kind\":null,\"name\":\"nrows\"},{\"default\":true,\"kind\":null,\"name\":\"allow_resize\"},{\"default\":true,\"kind\":null,\"name\":\"allow_drag\"},{\"default\":[],\"kind\":null,\"name\":\"state\"}]},{\"extends\":null,\"module\":null,\"name\":\"click1\",\"overrides\":[],\"properties\":[{\"default\":\"\",\"kind\":null,\"name\":\"terminal_output\"},{\"default\":\"\",\"kind\":null,\"name\":\"debug_name\"},{\"default\":0,\"kind\":null,\"name\":\"clears\"}]},{\"extends\":null,\"module\":null,\"name\":\"TemplateActions1\",\"overrides\":[],\"properties\":[{\"default\":0,\"kind\":null,\"name\":\"open_modal\"},{\"default\":0,\"kind\":null,\"name\":\"close_modal\"}]},{\"extends\":null,\"module\":null,\"name\":\"MaterialTemplateActions1\",\"overrides\":[],\"properties\":[{\"default\":0,\"kind\":null,\"name\":\"open_modal\"},{\"default\":0,\"kind\":null,\"name\":\"close_modal\"}]}],\"roots\":{\"references\":[{\"attributes\":{\"fill_alpha\":{\"value\":0.2},\"fill_color\":{\"field\":\"color\",\"transform\":{\"id\":\"6324\"}},\"hatch_alpha\":{\"value\":0.2},\"hatch_color\":{\"field\":\"color\",\"transform\":{\"id\":\"6324\"}},\"line_alpha\":{\"value\":0.2},\"line_color\":{\"field\":\"color\",\"transform\":{\"id\":\"6324\"}},\"size\":{\"field\":\"size\"},\"x\":{\"field\":\"long\"},\"y\":{\"field\":\"lat\"}},\"id\":\"6332\",\"type\":\"Scatter\"},{\"attributes\":{\"coordinates\":null,\"group\":null,\"text\":\"Houses for sale in the Boroughs selected\",\"text_color\":\"black\",\"text_font_size\":\"12pt\"},\"id\":\"6262\",\"type\":\"Title\"},{\"attributes\":{\"margin\":[5,5,5,5],\"name\":\"HSpacer17826\",\"sizing_mode\":\"stretch_width\"},\"id\":\"6399\",\"type\":\"Spacer\"},{\"attributes\":{\"end\":-8220647.979099526,\"min_interval\":5,\"reset_end\":-8220647.979099526,\"reset_start\":-8269242.075809631,\"start\":-8269242.075809631,\"tags\":[[[\"long\",\"long\",null]]]},\"id\":\"6254\",\"type\":\"Range1d\"},{\"attributes\":{\"code\":\"\\n        var projections = Bokeh.require(\\\"core/util/projections\\\");\\n        var x = special_vars.data_x\\n        var y = special_vars.data_y\\n        if (projections.wgs84_mercator.invert == null) {\\n          var coords = projections.wgs84_mercator.inverse([x, y])\\n        } else {\\n          var coords = projections.wgs84_mercator.invert(x, y)\\n        }\\n        return \\\"\\\" + (coords[0]).toFixed(4)\\n    \"},\"id\":\"6343\",\"type\":\"CustomJSHover\"},{\"attributes\":{\"fill_alpha\":{\"value\":0.1},\"fill_color\":{\"field\":\"color\",\"transform\":{\"id\":\"6324\"}},\"hatch_alpha\":{\"value\":0.1},\"hatch_color\":{\"field\":\"color\",\"transform\":{\"id\":\"6324\"}},\"line_alpha\":{\"value\":0.1},\"line_color\":{\"field\":\"color\",\"transform\":{\"id\":\"6324\"}},\"size\":{\"field\":\"size\"},\"x\":{\"field\":\"long\"},\"y\":{\"field\":\"lat\"}},\"id\":\"6329\",\"type\":\"Scatter\"},{\"attributes\":{\"label\":{\"field\":\"color\"},\"renderers\":[{\"id\":\"6333\"}]},\"id\":\"6342\",\"type\":\"LegendItem\"},{\"attributes\":{\"dimension\":\"lon\"},\"id\":\"6293\",\"type\":\"MercatorTicker\"},{\"attributes\":{},\"id\":\"6282\",\"type\":\"ResetTool\"},{\"attributes\":{\"code\":\"\\n        var projections = Bokeh.require(\\\"core/util/projections\\\");\\n        var x = special_vars.data_x\\n        var y = special_vars.data_y\\n        if (projections.wgs84_mercator.invert == null) {\\n          var coords = projections.wgs84_mercator.inverse([x, y])\\n        } else {\\n          var coords = projections.wgs84_mercator.invert(x, y)\\n        }\\n        return \\\"\\\" + (coords[1]).toFixed(4)\\n    \"},\"id\":\"6344\",\"type\":\"CustomJSHover\"},{\"attributes\":{\"fill_color\":{\"field\":\"color\",\"transform\":{\"id\":\"6324\"}},\"hatch_color\":{\"field\":\"color\",\"transform\":{\"id\":\"6324\"}},\"line_color\":{\"field\":\"color\",\"transform\":{\"id\":\"6324\"}},\"size\":{\"field\":\"size\"},\"x\":{\"field\":\"long\"},\"y\":{\"field\":\"lat\"}},\"id\":\"6330\",\"type\":\"Scatter\"},{\"attributes\":{},\"id\":\"6306\",\"type\":\"AllLabels\"},{\"attributes\":{\"margin\":[5,5,5,5],\"name\":\"HSpacer17825\",\"sizing_mode\":\"stretch_width\"},\"id\":\"6249\",\"type\":\"Spacer\"},{\"attributes\":{\"match_aspect\":true,\"overlay\":{\"id\":\"6283\"}},\"id\":\"6281\",\"type\":\"BoxZoomTool\"},{\"attributes\":{\"end\":4973395.750867069,\"min_interval\":5,\"reset_end\":4973395.750867069,\"reset_start\":4938685.681788422,\"start\":4938685.681788422,\"tags\":[[[\"lat\",\"lat\",null]]]},\"id\":\"6255\",\"type\":\"Range1d\"},{\"attributes\":{\"axis_label\":\"y\",\"coordinates\":null,\"formatter\":{\"id\":\"6296\"},\"group\":null,\"major_label_policy\":{\"id\":\"6306\"},\"ticker\":{\"id\":\"6295\"}},\"id\":\"6274\",\"type\":\"LinearAxis\"},{\"attributes\":{\"fill_color\":{\"field\":\"color\",\"transform\":{\"id\":\"6324\"}},\"hatch_color\":{\"field\":\"color\",\"transform\":{\"id\":\"6324\"}},\"line_color\":{\"field\":\"color\",\"transform\":{\"id\":\"6324\"}},\"size\":{\"field\":\"size\"},\"x\":{\"field\":\"long\"},\"y\":{\"field\":\"lat\"}},\"id\":\"6331\",\"type\":\"Scatter\"},{\"attributes\":{},\"id\":\"6279\",\"type\":\"PanTool\"},{\"attributes\":{},\"id\":\"6338\",\"type\":\"UnionRenderers\"},{\"attributes\":{},\"id\":\"6268\",\"type\":\"LinearScale\"},{\"attributes\":{\"zoom_on_axis\":false},\"id\":\"6280\",\"type\":\"WheelZoomTool\"},{\"attributes\":{\"axis\":{\"id\":\"6270\"},\"coordinates\":null,\"grid_line_color\":null,\"group\":null,\"ticker\":null},\"id\":\"6273\",\"type\":\"Grid\"},{\"attributes\":{\"fill_color\":{\"field\":\"color\",\"transform\":{\"id\":\"6324\"}},\"hatch_color\":{\"field\":\"color\",\"transform\":{\"id\":\"6324\"}},\"line_color\":{\"field\":\"color\",\"transform\":{\"id\":\"6324\"}},\"size\":{\"field\":\"size\"},\"x\":{\"field\":\"long\"},\"y\":{\"field\":\"lat\"}},\"id\":\"6328\",\"type\":\"Scatter\"},{\"attributes\":{\"children\":[{\"id\":\"6249\"},{\"id\":\"6261\"},{\"id\":\"6399\"}],\"margin\":[0,0,0,0],\"name\":\"Row17821\",\"tags\":[\"embedded\"]},\"id\":\"6248\",\"type\":\"Row\"},{\"attributes\":{},\"id\":\"6266\",\"type\":\"LinearScale\"},{\"attributes\":{\"dimension\":\"lat\"},\"id\":\"6296\",\"type\":\"MercatorTickFormatter\"},{\"attributes\":{\"axis\":{\"id\":\"6274\"},\"coordinates\":null,\"dimension\":1,\"grid_line_color\":null,\"group\":null,\"ticker\":null},\"id\":\"6277\",\"type\":\"Grid\"},{\"attributes\":{\"attribution\":\"&copy; <a href=\\\"https://www.openstreetmap.org/copyright\\\">OpenStreetMap</a> contributors\",\"url\":\"https://c.tile.openstreetmap.org/{Z}/{X}/{Y}.png\"},\"id\":\"6319\",\"type\":\"WMTSTileSource\"},{\"attributes\":{\"coordinates\":null,\"data_source\":{\"id\":\"6325\"},\"glyph\":{\"id\":\"6328\"},\"group\":null,\"hover_glyph\":{\"id\":\"6331\"},\"muted_glyph\":{\"id\":\"6332\"},\"nonselection_glyph\":{\"id\":\"6329\"},\"selection_glyph\":{\"id\":\"6330\"},\"view\":{\"id\":\"6334\"}},\"id\":\"6333\",\"type\":\"GlyphRenderer\"},{\"attributes\":{\"tools\":[{\"id\":\"6258\"},{\"id\":\"6278\"},{\"id\":\"6279\"},{\"id\":\"6280\"},{\"id\":\"6281\"},{\"id\":\"6282\"}]},\"id\":\"6284\",\"type\":\"Toolbar\"},{\"attributes\":{},\"id\":\"6326\",\"type\":\"Selection\"},{\"attributes\":{},\"id\":\"6278\",\"type\":\"SaveTool\"},{\"attributes\":{\"dimension\":\"lat\"},\"id\":\"6295\",\"type\":\"MercatorTicker\"},{\"attributes\":{\"click_policy\":\"mute\",\"coordinates\":null,\"group\":null,\"items\":[{\"id\":\"6342\"}],\"location\":[0,0]},\"id\":\"6341\",\"type\":\"Legend\"},{\"attributes\":{\"data\":{\"BOROUGH\":[\"BROOKLYN\",\"BROOKLYN\",\"BROOKLYN\",\"BROOKLYN\",\"BROOKLYN\",\"BROOKLYN\",\"BROOKLYN\",\"BROOKLYN\",\"BROOKLYN\",\"BROOKLYN\",\"BROOKLYN\",\"BROOKLYN\",\"BROOKLYN\",\"BROOKLYN\",\"BROOKLYN\",\"BROOKLYN\",\"BROOKLYN\",\"BROOKLYN\",\"BROOKLYN\",\"BROOKLYN\",\"BROOKLYN\",\"BROOKLYN\",\"BROOKLYN\",\"BROOKLYN\",\"BROOKLYN\",\"BROOKLYN\",\"BROOKLYN\",\"BROOKLYN\",\"BROOKLYN\",\"BROOKLYN\",\"BROOKLYN\",\"BROOKLYN\",\"BROOKLYN\",\"BROOKLYN\",\"BROOKLYN\",\"BROOKLYN\",\"BROOKLYN\",\"BROOKLYN\",\"BROOKLYN\",\"BROOKLYN\",\"BROOKLYN\",\"BROOKLYN\",\"BROOKLYN\",\"BROOKLYN\",\"BROOKLYN\",\"BROOKLYN\",\"BROOKLYN\",\"BROOKLYN\",\"BROOKLYN\",\"BROOKLYN\"],\"PRICE\":{\"__ndarray__\":\"AAAAAADQe0AAAAAAAMh0QAAAAAAAxHNAAAAAAABocEDNzMzMzERuQAAAAAAAYG1A7C+7Jw9DbUAAAAAAAIBrQAAAAAAAwGlA3GgAb4FkaUAAAAAAALBoQJqZmZmZwWdAAAAAAADgZUAAAAAAAKBkQEjhehSujWNAAAAAAADAYkDNzMzMzLxiQPfkYaHWLmFAAAAAAADgYECamZmZmblgQAAAAAAAQGBAAAAAAABAYEAAAAAAAIBfQDMzMzMzQ19AAAAAAABAX0Bcj8L1KIxeQAAAAAAAQF1AutqK/WWjXEAAAAAAAGBcQAAAAAAAQFtAAAAAAACgWUB6pSxDHEdZQJqZmZmZ+VhAmpmZmZn5WEAAAAAAAOBYQAAAAAAA4FhAdnEbDeDRWEBmZmZmZsZYQDMzMzMzo1hAAAAAAAAAWEAAAAAAAIBXQHzysFBrXldAAAAAAAAgV0AAAAAAAMBWQAAAAAAAgFZAAAAAAABAVkAAAAAAAOBVQAAAAAAAoFVAZmZmZmZmVUAAAAAAAEBVQA==\",\"dtype\":\"float64\",\"order\":\"little\",\"shape\":[50]},\"color\":[\"BROOKLYN\",\"BROOKLYN\",\"BROOKLYN\",\"BROOKLYN\",\"BROOKLYN\",\"BROOKLYN\",\"BROOKLYN\",\"BROOKLYN\",\"BROOKLYN\",\"BROOKLYN\",\"BROOKLYN\",\"BROOKLYN\",\"BROOKLYN\",\"BROOKLYN\",\"BROOKLYN\",\"BROOKLYN\",\"BROOKLYN\",\"BROOKLYN\",\"BROOKLYN\",\"BROOKLYN\",\"BROOKLYN\",\"BROOKLYN\",\"BROOKLYN\",\"BROOKLYN\",\"BROOKLYN\",\"BROOKLYN\",\"BROOKLYN\",\"BROOKLYN\",\"BROOKLYN\",\"BROOKLYN\",\"BROOKLYN\",\"BROOKLYN\",\"BROOKLYN\",\"BROOKLYN\",\"BROOKLYN\",\"BROOKLYN\",\"BROOKLYN\",\"BROOKLYN\",\"BROOKLYN\",\"BROOKLYN\",\"BROOKLYN\",\"BROOKLYN\",\"BROOKLYN\",\"BROOKLYN\",\"BROOKLYN\",\"BROOKLYN\",\"BROOKLYN\",\"BROOKLYN\",\"BROOKLYN\",\"BROOKLYN\"],\"lat\":{\"__ndarray__\":\"xi0W2QH2UkFOu4OxRvBSQUd0cbXQ8lJBpIv4KQ3sUkHsj04Rc/BSQZH2wNJp51JB4l2Jq2XxUkGS7MRRDe5SQaFzK7jC6FJBGK2J4F7yUkHQuZFUWvFSQd6KoYLC2VJBWhBnckrmUkGgeq1bI+pSQezQ8UDl9FJBsgVzYm7mUkEK+euasvJSQbbiGFtO8lJBREJOQTbpUkEZ9/QIcORSQXdav8SZ4lJB7DzMoenyUkFCy0zThfBSQRCOh3Yb5lJBw2ma9gLuUkFqEbQwSORSQSD+UMIj51JB1nuZD9rmUkH7WUs6++hSQU4M3qAn5lJBx4Gjw6PkUkFy6lejavJSQdFH0UMM51JBFNCCMzLrUkEg/lDCI+dSQdvcuQec51JBKeZQ3+vyUkHoyHcEDe9SQWultlSb51JBxh/teVzoUkFxShtxXOlSQYTubxiP41JB8Cy78svyUkHSPch7++ZSQVJTdVyr6FJBcjS5Vt/jUkF28EN9QuNSQX9OMl3T6FJBiTsSgQXkUkFnFu3BL+NSQQ==\",\"dtype\":\"float64\",\"order\":\"little\",\"shape\":[50]},\"long\":{\"__ndarray__\":\"ulRZI65oX8EA3ttoxWpfwYG/iXFjbF/BFz6vKw9pX8EvdtRjkWpfwV9alcn6aF/BTy+tMzNoX8GuHTC5+mdfwRF8YP/feF/Bow/rsClsX8Ex7coFimtfwQnNyfl7hV/BqdS5iexhX8E9dzMtumdfwZm4knSkZl/BifCygu9hX8E2rMf2KWNfwRMwMBryZV/BPoshK6BsX8HKAdTEnWtfwYXrIgovZl/B7TbQs55pX8GJtLP+52NfwS5Y72Y4Y1/BOwHi9X1lX8Gce1GBOmZfwT/ihf9sbF/BxVcCwk9jX8Eece2HvmxfwXIpsgRDY1/Brl75vg5pX8HMCK4S12RfwaSloESNYl/BFbVC0q1tX8GY1aSVPGJfwaHeh5ZRb1/BXQTWX+pnX8EU9JORRGRfwacl6Xo8Z1/Bl/hTFKJsX8HzrSlR8WZfwWESVXEHa1/BQIZXqZNpX8GgTCykk2xfwYbIPgF0bF/B4Gd5bwpoX8Et+7iqSGVfwbX27I+jYl/B/jxc+i1mX8Hz9MQ+KGZfwQ==\",\"dtype\":\"float64\",\"order\":\"little\",\"shape\":[50]},\"size\":{\"__ndarray__\":\"daY8b1MYNUA2dMGZDTwyQDQW3ymOyDFAfstXjqwzMEBftuqfUR8vQKtHRbbPqC5ASV8+lrGZLkDY4arvL6otQBeNVRuVtCxANn2AEWiBLEB9bb9UYBssQH5n5ItckitAJLdHlB91KkDOwhVTwrApQLew2FiiAylAemkLmbF+KEAFoc9omnwoQDx4b4vwcidAI3v7BOc8J0BShdBhZyInQOsSsruyzSZA6xKyu7LNJkB3Lw6NL3MmQBs7+5B6XSZA0vF9glVcJkCA1hB1oBsmQHcDSXMgoiVA5JZO0+hnJUAPiqyfqU4lQDf5z9pv4SRAznk/3Jo/JEAhGf2WXRwkQOw/4Hlw/SNA7D/geXD9I0AEjf4XL/MjQASN/hcv8yNAmYyZR4TtI0D2icxt6OgjQFLdopS+2iNALiEJFI6YI0AGU0QwBmQjQC7yA4EmViNAyeA+IUI8I0CrKakwKxQjQH7EIyxC+SJAQYdixjLeIkCOJ+FKUrUiQHWFGBHgmSJAWy1KqAmBIkCaLpAhaHAiQA==\",\"dtype\":\"float64\",\"order\":\"little\",\"shape\":[50]}},\"selected\":{\"id\":\"6326\"},\"selection_policy\":{\"id\":\"6338\"}},\"id\":\"6325\",\"type\":\"ColumnDataSource\"},{\"attributes\":{},\"id\":\"6299\",\"type\":\"AllLabels\"},{\"attributes\":{\"source\":{\"id\":\"6325\"}},\"id\":\"6334\",\"type\":\"CDSView\"},{\"attributes\":{\"bottom_units\":\"screen\",\"coordinates\":null,\"fill_alpha\":0.5,\"fill_color\":\"lightgrey\",\"group\":null,\"left_units\":\"screen\",\"level\":\"overlay\",\"line_alpha\":1.0,\"line_color\":\"black\",\"line_dash\":[4,4],\"line_width\":2,\"right_units\":\"screen\",\"syncable\":false,\"top_units\":\"screen\"},\"id\":\"6283\",\"type\":\"BoxAnnotation\"},{\"attributes\":{\"factors\":[\"BROOKLYN\"],\"palette\":[\"#1f77b3\"]},\"id\":\"6324\",\"type\":\"CategoricalColorMapper\"},{\"attributes\":{\"callback\":null,\"formatters\":{\"$x\":{\"id\":\"6343\"},\"$y\":{\"id\":\"6344\"}},\"renderers\":[{\"id\":\"6333\"}],\"tags\":[\"hv_created\"],\"tooltips\":[[\"long\",\"$x{custom}\"],[\"lat\",\"$y{custom}\"],[\"BOROUGH\",\"@{BOROUGH}\"],[\"PRICE\",\"@{PRICE}\"]]},\"id\":\"6258\",\"type\":\"HoverTool\"},{\"attributes\":{\"dimension\":\"lon\"},\"id\":\"6294\",\"type\":\"MercatorTickFormatter\"},{\"attributes\":{\"axis_label\":\"x\",\"coordinates\":null,\"formatter\":{\"id\":\"6294\"},\"group\":null,\"major_label_policy\":{\"id\":\"6299\"},\"ticker\":{\"id\":\"6293\"}},\"id\":\"6270\",\"type\":\"LinearAxis\"},{\"attributes\":{\"below\":[{\"id\":\"6270\"}],\"center\":[{\"id\":\"6273\"},{\"id\":\"6277\"}],\"frame_height\":500,\"frame_width\":700,\"height\":null,\"left\":[{\"id\":\"6274\"}],\"margin\":[5,5,5,5],\"match_aspect\":true,\"min_border_bottom\":10,\"min_border_left\":10,\"min_border_right\":10,\"min_border_top\":10,\"renderers\":[{\"id\":\"6322\"},{\"id\":\"6333\"}],\"right\":[{\"id\":\"6341\"}],\"sizing_mode\":\"fixed\",\"title\":{\"id\":\"6262\"},\"toolbar\":{\"id\":\"6284\"},\"width\":null,\"x_range\":{\"id\":\"6254\"},\"x_scale\":{\"id\":\"6266\"},\"y_range\":{\"id\":\"6255\"},\"y_scale\":{\"id\":\"6268\"}},\"id\":\"6261\",\"subtype\":\"Figure\",\"type\":\"Plot\"},{\"attributes\":{\"coordinates\":null,\"group\":null,\"level\":\"glyph\",\"tile_source\":{\"id\":\"6319\"}},\"id\":\"6322\",\"type\":\"TileRenderer\"}],\"root_ids\":[\"6248\"]},\"title\":\"Bokeh Application\",\"version\":\"2.4.2\"}};\n",
       "    var render_items = [{\"docid\":\"9c5b110b-4bec-40f3-b51f-3d5786cb1c00\",\"root_ids\":[\"6248\"],\"roots\":{\"6248\":\"aeb02e9a-3888-4704-bd0e-cba256fd67b7\"}}];\n",
       "    root.Bokeh.embed.embed_items_notebook(docs_json, render_items);\n",
       "  }\n",
       "  if (root.Bokeh !== undefined && root.Bokeh.Panel !== undefined) {\n",
       "    embed_document(root);\n",
       "  } else {\n",
       "    var attempts = 0;\n",
       "    var timer = setInterval(function(root) {\n",
       "      if (root.Bokeh !== undefined && root.Bokeh.Panel !== undefined) {\n",
       "        clearInterval(timer);\n",
       "        embed_document(root);\n",
       "      } else if (document.readyState == \"complete\") {\n",
       "        attempts++;\n",
       "        if (attempts > 200) {\n",
       "          clearInterval(timer);\n",
       "          console.log(\"Bokeh: ERROR: Unable to run BokehJS code because BokehJS library is missing\");\n",
       "        }\n",
       "      }\n",
       "    }, 25, root)\n",
       "  }\n",
       "})(window);</script>"
      ],
      "text/plain": [
       ":Overlay\n",
       "   .Tiles.I  :Tiles   [x,y]\n",
       "   .Points.I :Points   [long,lat]   (BOROUGH,PRICE)"
      ]
     },
     "execution_count": 194,
     "metadata": {
      "application/vnd.holoviews_exec.v0+json": {
       "id": "6248"
      }
     },
     "output_type": "execute_result"
    }
   ],
   "source": [
    "import hvplot.pandas\n",
    "houses = df_houses_new.hvplot.points(\n",
    "    'long', \n",
    "    'lat', \n",
    "    geo=True, \n",
    "    size='PRICE',\n",
    "    color='BOROUGH',\n",
    "    # alpha=0.2,\n",
    "    tiles='OSM',\n",
    "    frame_width = 700,\n",
    "    frame_height = 500\n",
    "    ).opts(\n",
    "    title = \"Houses for sale in the Boroughs selected\"\n",
    ")\n",
    "# Show the plot\n",
    "houses"
   ]
  },
  {
   "cell_type": "code",
   "execution_count": null,
   "id": "23c40cdd-3470-4df9-ba38-2668c2dbd79e",
   "metadata": {},
   "outputs": [],
   "source": []
  }
 ],
 "metadata": {
  "kernelspec": {
   "display_name": "Python (dev)",
   "language": "python",
   "name": "dev"
  },
  "language_info": {
   "codemirror_mode": {
    "name": "ipython",
    "version": 3
   },
   "file_extension": ".py",
   "mimetype": "text/x-python",
   "name": "python",
   "nbconvert_exporter": "python",
   "pygments_lexer": "ipython3",
   "version": "3.7.13"
  }
 },
 "nbformat": 4,
 "nbformat_minor": 5
}
