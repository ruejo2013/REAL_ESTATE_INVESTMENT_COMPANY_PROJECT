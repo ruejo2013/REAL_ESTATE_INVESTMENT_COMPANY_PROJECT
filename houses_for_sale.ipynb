{
 "cells": [
  {
   "cell_type": "markdown",
   "id": "4f5bfda3-cd02-4ba5-9968-f6cc4a1b5ddf",
   "metadata": {},
   "source": [
    "## Houses for Sale\n",
    "\n",
    "This notebook returns a geomap of houses  avaliable for sale as points, in the borough selected by the customer."
   ]
  },
  {
   "cell_type": "code",
   "execution_count": 26,
   "id": "0fc734f7-cbb6-42e9-922e-b6ff4878cbf5",
   "metadata": {},
   "outputs": [],
   "source": [
    "# import python libraries\n",
    "import hvplot.pandas\n",
    "import pandas as pd \n",
    "from pathlib import Path\n"
   ]
  },
  {
   "cell_type": "code",
   "execution_count": 27,
   "id": "baa8bd76-2729-4625-80a5-4a2fe08bb948",
   "metadata": {},
   "outputs": [],
   "source": [
    "# read the the selected borough data\n",
    "\n",
    "df_houses = pd.read_csv(Path(\"Resources/housing_selected.csv\"))"
   ]
  },
  {
   "cell_type": "code",
   "execution_count": 28,
   "id": "6f39732f-d9a7-475b-a555-7b41b1f121b6",
   "metadata": {},
   "outputs": [
    {
     "data": {
      "text/html": [
       "<div>\n",
       "<style scoped>\n",
       "    .dataframe tbody tr th:only-of-type {\n",
       "        vertical-align: middle;\n",
       "    }\n",
       "\n",
       "    .dataframe tbody tr th {\n",
       "        vertical-align: top;\n",
       "    }\n",
       "\n",
       "    .dataframe thead th {\n",
       "        text-align: right;\n",
       "    }\n",
       "</style>\n",
       "<table border=\"1\" class=\"dataframe\">\n",
       "  <thead>\n",
       "    <tr style=\"text-align: right;\">\n",
       "      <th></th>\n",
       "      <th>BOROUGH</th>\n",
       "      <th>NEIGHBORHOOD</th>\n",
       "      <th>BUILDING_CATEGORY</th>\n",
       "      <th>ADDRESS</th>\n",
       "      <th>ZIP_CODE</th>\n",
       "      <th>LAND_SQR_FT</th>\n",
       "      <th>GROSS_SQR_FT</th>\n",
       "      <th>YEAR_BUILT</th>\n",
       "      <th>PRICE</th>\n",
       "      <th>long</th>\n",
       "      <th>lat</th>\n",
       "    </tr>\n",
       "  </thead>\n",
       "  <tbody>\n",
       "    <tr>\n",
       "      <th>0</th>\n",
       "      <td>BRONX</td>\n",
       "      <td>FIELDSTON</td>\n",
       "      <td>ONE FAMILY HOME</td>\n",
       "      <td>4750 ISELIN AVENUE</td>\n",
       "      <td>10471</td>\n",
       "      <td>8034</td>\n",
       "      <td>3208</td>\n",
       "      <td>1968</td>\n",
       "      <td>1965000</td>\n",
       "      <td>-73.905571</td>\n",
       "      <td>40.897671</td>\n",
       "    </tr>\n",
       "    <tr>\n",
       "      <th>1</th>\n",
       "      <td>BRONX</td>\n",
       "      <td>RIVERDALE</td>\n",
       "      <td>ONE FAMILY HOME</td>\n",
       "      <td>680-02 WEST 246TH STREET</td>\n",
       "      <td>10471</td>\n",
       "      <td>5508</td>\n",
       "      <td>3780</td>\n",
       "      <td>1987</td>\n",
       "      <td>1625000</td>\n",
       "      <td>-73.902794</td>\n",
       "      <td>40.893440</td>\n",
       "    </tr>\n",
       "    <tr>\n",
       "      <th>2</th>\n",
       "      <td>BRONX</td>\n",
       "      <td>RIVERDALE</td>\n",
       "      <td>ONE FAMILY HOME</td>\n",
       "      <td>5242 ARLINGTON AVENUE</td>\n",
       "      <td>10471</td>\n",
       "      <td>6650</td>\n",
       "      <td>1928</td>\n",
       "      <td>1950</td>\n",
       "      <td>1375000</td>\n",
       "      <td>-73.908142</td>\n",
       "      <td>40.900928</td>\n",
       "    </tr>\n",
       "    <tr>\n",
       "      <th>3</th>\n",
       "      <td>BRONX</td>\n",
       "      <td>FIELDSTON</td>\n",
       "      <td>ONE FAMILY HOME</td>\n",
       "      <td>280 FIELDSTONE TERRACE</td>\n",
       "      <td>10471</td>\n",
       "      <td>4613</td>\n",
       "      <td>2410</td>\n",
       "      <td>1950</td>\n",
       "      <td>1325000</td>\n",
       "      <td>-73.899170</td>\n",
       "      <td>40.895969</td>\n",
       "    </tr>\n",
       "    <tr>\n",
       "      <th>4</th>\n",
       "      <td>BRONX</td>\n",
       "      <td>BRONXDALE</td>\n",
       "      <td>TWO FAMILY HOMES</td>\n",
       "      <td>2523 OLINVILLE</td>\n",
       "      <td>10467</td>\n",
       "      <td>2500</td>\n",
       "      <td>2560</td>\n",
       "      <td>1960</td>\n",
       "      <td>1150000</td>\n",
       "      <td>-74.229317</td>\n",
       "      <td>40.518600</td>\n",
       "    </tr>\n",
       "  </tbody>\n",
       "</table>\n",
       "</div>"
      ],
      "text/plain": [
       "  BOROUGH               NEIGHBORHOOD  ...       long        lat\n",
       "0   BRONX  FIELDSTON                  ... -73.905571  40.897671\n",
       "1   BRONX                  RIVERDALE  ... -73.902794  40.893440\n",
       "2   BRONX  RIVERDALE                  ... -73.908142  40.900928\n",
       "3   BRONX  FIELDSTON                  ... -73.899170  40.895969\n",
       "4   BRONX                  BRONXDALE  ... -74.229317  40.518600\n",
       "\n",
       "[5 rows x 11 columns]"
      ]
     },
     "execution_count": 28,
     "metadata": {},
     "output_type": "execute_result"
    }
   ],
   "source": [
    "# view the data \n",
    "df_houses.head()"
   ]
  },
  {
   "cell_type": "code",
   "execution_count": 29,
   "id": "71993b6c-7f6b-4517-9712-563af8afc3eb",
   "metadata": {},
   "outputs": [],
   "source": [
    "# make a copy of the dataframe\n",
    "df_houses_new = df_houses.copy()"
   ]
  },
  {
   "cell_type": "code",
   "execution_count": 30,
   "id": "0b37744e-9c8f-4d8b-85a6-9a91b58d4cfe",
   "metadata": {},
   "outputs": [],
   "source": [
    "# scale the houses price\n",
    "df_houses_new['PRICE'] = df_houses_new['PRICE']/10000"
   ]
  },
  {
   "cell_type": "code",
   "execution_count": 31,
   "id": "4259b4c0-ca83-4f1e-ad51-79aea364aca3",
   "metadata": {},
   "outputs": [
    {
     "data": {},
     "metadata": {},
     "output_type": "display_data"
    },
    {
     "data": {
      "application/vnd.holoviews_exec.v0+json": "",
      "text/html": [
       "<div id='1553'>\n",
       "\n",
       "\n",
       "\n",
       "\n",
       "\n",
       "  <div class=\"bk-root\" id=\"254b0493-26de-474b-a168-0ede5ab26fb4\" data-root-id=\"1553\"></div>\n",
       "</div>\n",
       "<script type=\"application/javascript\">(function(root) {\n",
       "  function embed_document(root) {\n",
       "    var docs_json = {\"3f129462-e7d6-41c1-a2ae-02bd29128e2e\":{\"defs\":[{\"extends\":null,\"module\":null,\"name\":\"ReactiveHTML1\",\"overrides\":[],\"properties\":[]},{\"extends\":null,\"module\":null,\"name\":\"FlexBox1\",\"overrides\":[],\"properties\":[{\"default\":\"flex-start\",\"kind\":null,\"name\":\"align_content\"},{\"default\":\"flex-start\",\"kind\":null,\"name\":\"align_items\"},{\"default\":\"row\",\"kind\":null,\"name\":\"flex_direction\"},{\"default\":\"wrap\",\"kind\":null,\"name\":\"flex_wrap\"},{\"default\":\"flex-start\",\"kind\":null,\"name\":\"justify_content\"}]},{\"extends\":null,\"module\":null,\"name\":\"GridStack1\",\"overrides\":[],\"properties\":[{\"default\":\"warn\",\"kind\":null,\"name\":\"mode\"},{\"default\":null,\"kind\":null,\"name\":\"ncols\"},{\"default\":null,\"kind\":null,\"name\":\"nrows\"},{\"default\":true,\"kind\":null,\"name\":\"allow_resize\"},{\"default\":true,\"kind\":null,\"name\":\"allow_drag\"},{\"default\":[],\"kind\":null,\"name\":\"state\"}]},{\"extends\":null,\"module\":null,\"name\":\"click1\",\"overrides\":[],\"properties\":[{\"default\":\"\",\"kind\":null,\"name\":\"terminal_output\"},{\"default\":\"\",\"kind\":null,\"name\":\"debug_name\"},{\"default\":0,\"kind\":null,\"name\":\"clears\"}]},{\"extends\":null,\"module\":null,\"name\":\"TemplateActions1\",\"overrides\":[],\"properties\":[{\"default\":0,\"kind\":null,\"name\":\"open_modal\"},{\"default\":0,\"kind\":null,\"name\":\"close_modal\"}]},{\"extends\":null,\"module\":null,\"name\":\"MaterialTemplateActions1\",\"overrides\":[],\"properties\":[{\"default\":0,\"kind\":null,\"name\":\"open_modal\"},{\"default\":0,\"kind\":null,\"name\":\"close_modal\"}]}],\"roots\":{\"references\":[{\"attributes\":{\"label\":{\"field\":\"color\"},\"renderers\":[{\"id\":\"1638\"}]},\"id\":\"1647\",\"type\":\"LegendItem\"},{\"attributes\":{\"tools\":[{\"id\":\"1563\"},{\"id\":\"1583\"},{\"id\":\"1584\"},{\"id\":\"1585\"},{\"id\":\"1586\"},{\"id\":\"1587\"}]},\"id\":\"1589\",\"type\":\"Toolbar\"},{\"attributes\":{},\"id\":\"1571\",\"type\":\"LinearScale\"},{\"attributes\":{\"fill_color\":{\"field\":\"color\",\"transform\":{\"id\":\"1629\"}},\"hatch_color\":{\"field\":\"color\",\"transform\":{\"id\":\"1629\"}},\"line_color\":{\"field\":\"color\",\"transform\":{\"id\":\"1629\"}},\"size\":{\"field\":\"size\"},\"x\":{\"field\":\"long\"},\"y\":{\"field\":\"lat\"}},\"id\":\"1636\",\"type\":\"Scatter\"},{\"attributes\":{},\"id\":\"1573\",\"type\":\"LinearScale\"},{\"attributes\":{\"attribution\":\"&copy; <a href=\\\"https://www.openstreetmap.org/copyright\\\">OpenStreetMap</a> contributors\",\"url\":\"https://c.tile.openstreetmap.org/{Z}/{X}/{Y}.png\"},\"id\":\"1624\",\"type\":\"WMTSTileSource\"},{\"attributes\":{},\"id\":\"1604\",\"type\":\"AllLabels\"},{\"attributes\":{\"children\":[{\"id\":\"1554\"},{\"id\":\"1566\"},{\"id\":\"1704\"}],\"margin\":[0,0,0,0],\"name\":\"Row04557\",\"tags\":[\"embedded\"]},\"id\":\"1553\",\"type\":\"Row\"},{\"attributes\":{\"below\":[{\"id\":\"1575\"}],\"center\":[{\"id\":\"1578\"},{\"id\":\"1582\"}],\"frame_height\":500,\"frame_width\":700,\"height\":null,\"left\":[{\"id\":\"1579\"}],\"margin\":[5,5,5,5],\"match_aspect\":true,\"min_border_bottom\":10,\"min_border_left\":10,\"min_border_right\":10,\"min_border_top\":10,\"renderers\":[{\"id\":\"1627\"},{\"id\":\"1638\"}],\"right\":[{\"id\":\"1646\"}],\"sizing_mode\":\"fixed\",\"title\":{\"id\":\"1567\"},\"toolbar\":{\"id\":\"1589\"},\"width\":null,\"x_range\":{\"id\":\"1559\"},\"x_scale\":{\"id\":\"1571\"},\"y_range\":{\"id\":\"1560\"},\"y_scale\":{\"id\":\"1573\"}},\"id\":\"1566\",\"subtype\":\"Figure\",\"type\":\"Plot\"},{\"attributes\":{\"fill_color\":{\"field\":\"color\",\"transform\":{\"id\":\"1629\"}},\"hatch_color\":{\"field\":\"color\",\"transform\":{\"id\":\"1629\"}},\"line_color\":{\"field\":\"color\",\"transform\":{\"id\":\"1629\"}},\"size\":{\"field\":\"size\"},\"x\":{\"field\":\"long\"},\"y\":{\"field\":\"lat\"}},\"id\":\"1633\",\"type\":\"Scatter\"},{\"attributes\":{\"bottom_units\":\"screen\",\"coordinates\":null,\"fill_alpha\":0.5,\"fill_color\":\"lightgrey\",\"group\":null,\"left_units\":\"screen\",\"level\":\"overlay\",\"line_alpha\":1.0,\"line_color\":\"black\",\"line_dash\":[4,4],\"line_width\":2,\"right_units\":\"screen\",\"syncable\":false,\"top_units\":\"screen\"},\"id\":\"1588\",\"type\":\"BoxAnnotation\"},{\"attributes\":{\"dimension\":\"lon\"},\"id\":\"1598\",\"type\":\"MercatorTicker\"},{\"attributes\":{\"axis\":{\"id\":\"1579\"},\"coordinates\":null,\"dimension\":1,\"grid_line_color\":null,\"group\":null,\"ticker\":null},\"id\":\"1582\",\"type\":\"Grid\"},{\"attributes\":{},\"id\":\"1611\",\"type\":\"AllLabels\"},{\"attributes\":{\"code\":\"\\n        var projections = Bokeh.require(\\\"core/util/projections\\\");\\n        var x = special_vars.data_x\\n        var y = special_vars.data_y\\n        if (projections.wgs84_mercator.invert == null) {\\n          var coords = projections.wgs84_mercator.inverse([x, y])\\n        } else {\\n          var coords = projections.wgs84_mercator.invert(x, y)\\n        }\\n        return \\\"\\\" + (coords[1]).toFixed(4)\\n    \"},\"id\":\"1649\",\"type\":\"CustomJSHover\"},{\"attributes\":{\"axis\":{\"id\":\"1575\"},\"coordinates\":null,\"grid_line_color\":null,\"group\":null,\"ticker\":null},\"id\":\"1578\",\"type\":\"Grid\"},{\"attributes\":{\"fill_alpha\":{\"value\":0.1},\"fill_color\":{\"field\":\"color\",\"transform\":{\"id\":\"1629\"}},\"hatch_alpha\":{\"value\":0.1},\"hatch_color\":{\"field\":\"color\",\"transform\":{\"id\":\"1629\"}},\"line_alpha\":{\"value\":0.1},\"line_color\":{\"field\":\"color\",\"transform\":{\"id\":\"1629\"}},\"size\":{\"field\":\"size\"},\"x\":{\"field\":\"long\"},\"y\":{\"field\":\"lat\"}},\"id\":\"1634\",\"type\":\"Scatter\"},{\"attributes\":{\"callback\":null,\"formatters\":{\"$x\":{\"id\":\"1648\"},\"$y\":{\"id\":\"1649\"}},\"renderers\":[{\"id\":\"1638\"}],\"tags\":[\"hv_created\"],\"tooltips\":[[\"long\",\"$x{custom}\"],[\"lat\",\"$y{custom}\"],[\"BOROUGH\",\"@{BOROUGH}\"],[\"PRICE\",\"@{PRICE}\"]]},\"id\":\"1563\",\"type\":\"HoverTool\"},{\"attributes\":{\"factors\":[\"BRONX\",\"MANHATTAN\"],\"palette\":[\"#1f77b3\",\"#ff7e0e\"]},\"id\":\"1629\",\"type\":\"CategoricalColorMapper\"},{\"attributes\":{\"data\":{\"BOROUGH\":[\"BRONX\",\"BRONX\",\"BRONX\",\"BRONX\",\"BRONX\",\"BRONX\",\"BRONX\",\"BRONX\",\"BRONX\",\"BRONX\",\"BRONX\",\"BRONX\",\"BRONX\",\"MANHATTAN\",\"BRONX\",\"BRONX\",\"BRONX\",\"BRONX\",\"BRONX\",\"BRONX\",\"BRONX\",\"BRONX\",\"BRONX\",\"BRONX\",\"BRONX\",\"BRONX\",\"BRONX\",\"BRONX\",\"BRONX\",\"BRONX\",\"BRONX\",\"BRONX\",\"BRONX\",\"BRONX\",\"BRONX\",\"BRONX\",\"BRONX\",\"BRONX\",\"BRONX\",\"BRONX\",\"BRONX\",\"BRONX\",\"BRONX\",\"BRONX\",\"BRONX\",\"BRONX\",\"BRONX\",\"BRONX\",\"BRONX\",\"BRONX\"],\"PRICE\":{\"__ndarray__\":\"AAAAAACQaEAAAAAAAFBkQAAAAAAAMGFAAAAAAACQYEAAAAAAAMBcQI2XbhKDkFxAAAAAAACAWEAAAAAAAIBXQAAAAAAAQFdAAAAAAAAgV0CamZmZmdlWQAAAAAAAgFZAAAAAAABQVUAAAAAAAEBVQJqZmZmZ+VRAmpmZmZl5U0AAAAAAAEBTQAAAAAAAQFNAumsJ+aBzUkAAAAAAACBSQAAAAAAAIFJAAAAAAAAAUkAAAAAAAABSQAAAAAAA4FFAAAAAAADAUUDZzvdT471RQAAAAAAAQFFAn82qz9UuUUAAAAAAACBRQAAAAAAAAFFAAAAAAADgUEAAAAAAAOBQQAwCK4cWzVBAAAAAAADAUEDnjCjtDaJQQOxRuB6Fi1BAAAAAAACAUECX/5B++3pQQAAAAAAAYFBAC0YldQJOUEAAAAAAAEBQQFg5tMh2PlBAmpmZmZk5UEBmZmZmZiZQQAAAAAAAIFBATfOOU3QYUEAAAAAAAABQQK5H4XoU7k9AZmZmZmbmT0AAAAAAAMBPQA==\",\"dtype\":\"float64\",\"order\":\"little\",\"shape\":[50]},\"color\":[\"BRONX\",\"BRONX\",\"BRONX\",\"BRONX\",\"BRONX\",\"BRONX\",\"BRONX\",\"BRONX\",\"BRONX\",\"BRONX\",\"BRONX\",\"BRONX\",\"BRONX\",\"MANHATTAN\",\"BRONX\",\"BRONX\",\"BRONX\",\"BRONX\",\"BRONX\",\"BRONX\",\"BRONX\",\"BRONX\",\"BRONX\",\"BRONX\",\"BRONX\",\"BRONX\",\"BRONX\",\"BRONX\",\"BRONX\",\"BRONX\",\"BRONX\",\"BRONX\",\"BRONX\",\"BRONX\",\"BRONX\",\"BRONX\",\"BRONX\",\"BRONX\",\"BRONX\",\"BRONX\",\"BRONX\",\"BRONX\",\"BRONX\",\"BRONX\",\"BRONX\",\"BRONX\",\"BRONX\",\"BRONX\",\"BRONX\",\"BRONX\"],\"lat\":{\"__ndarray__\":\"2nll9CIQU0FNfakzhw9TQW8RqOaaEFNBOQO1UOQPU0GE7iYkxtlSQd6KoYLC2VJB5fFhnTERU0G11fv/HwhTQRuf3iJbBFNBUMWA/q8KU0H6wuPnMwlTQXGUyXM6BFNB+qpXQmwDU0FictR2WQNTQYP6jTuKCFNBPt3SfV4HU0GE7iYkxtlSQd5nUFK6DVNB3qMIUFkEU0EYTlWVDARTQd0FkQDMBlNBthGFYw8EU0G0l9UlFwZTQXLUiS6DBlNBfZTt/5kLU0Ghcyu4wuhSQQQMK9VoCFNB7PMR6mkMU0EHPB/s5BBTQUDPSv0IC1NBoY4zUkgHU0GqR4VDsgdTQTurdbLkBlNB4U6PQ/kFU0ES+a6yew1TQXVr601pDVNBjQz4e7MJU0GE7iYkxtlSQWvvGuh+BFNBoXMruMLoUkFceTZA0QRTQUrp9mQlEVNBE/6UAXEOU0GInVGwawRTQZd2MWJUDVNBrtFFrHkIU0HVvPmncghTQa2hnHTFCFNBDpf/mqYEU0FgS7fSKQhTQQ==\",\"dtype\":\"float64\",\"order\":\"little\",\"shape\":[50]},\"long\":{\"__ndarray__\":\"jmzWoU5iX8HLl4lYAWJfwUT5iy+WYl/BvNPOfZxhX8HYdj9vgIVfwQnNyfl7hV/B0U4HkathX8FJTTZOg1VfwdNrfK2dWV/BJF7N5qJbX8Ef3ykbsFVfwVsPp1NvWF/Bg2ziOZZcX8EHYDRroWVfwaDKziLBWV/Btko0szZZX8HYdj9vgIVfwX/IrZQVY1/BobHhGHliX8Ghgo7KzVtfwUtwSMhCXF/BNow1Kf5hX8E4qapF8FlfwRM+gboKXF/BVTsX+ixdX8ERfGD/33hfwecsSEjNXV/B/eHSDhFiX8Fls2xlTltfwbxMcvBnXF/Bu+bpn8FaX8G7QyBcsVhfwdpx3wEfYV/BBLdqzmlYX8FeTiaEClxfwYAR9lIfXF/BZxTIOI5dX8HYdj9vgIVfwSsAuLaqV1/BEXxg/994X8E3Ntm6R11fwc0kG8myYV/BD/75I1ldX8HENfitpldfwfyXt3RGXV/BvZnfxcFZX8Gu6rdT/1xfwR8q6h83WV/BV45Wt6lYX8E+toTsUF5fwQ==\",\"dtype\":\"float64\",\"order\":\"little\",\"shape\":[50]},\"size\":{\"__ndarray__\":\"8WOjFCMJLED0u9a2vn4pQFFsqW+7cydAHcDiBZAFJ0DYXIublnIlQKKfQbbYYCVAU1SvmYrMI0AGU0QwBmQjQEAFsZeMSSNAyeA+IUI8I0A6GVUx5B4jQH7EIyxC+SJAaJOv61d3IkCaLpAhaHAiQF+1InTDUSJADcrwRfamIUDj09YhyIwhQOPT1iHIjCFAVXlwYKIuIUApmmjdhQchQCmaaN2FByFA2WzfzHb4IEDZbN/MdvggQCxJn1Na6SBABvuVTTDaIEAsQQGcL9kgQAnQjs39nCBACA4GwLeUIECq2bHTjY0gQAftr2YPfiBAK/yoXYJuIEAr/Khdgm4gQGXKvaNKZSBAi9T6juZeIEC+aFbBPVAgQA1o9wQtRSBADLg29oE/IECZn7ZTCT0gQEgP49S4LyBAe7wdItImIEDQumE/4B8gQNI7yiMdHyBAn6mHD7McIEC40tK7JxMgQOsN9gf4DyBAhglNgTUMIEAAAAAAAAAgQDs+9vsI9x9ABGLQojDzH0DW4+vv798fQA==\",\"dtype\":\"float64\",\"order\":\"little\",\"shape\":[50]}},\"selected\":{\"id\":\"1631\"},\"selection_policy\":{\"id\":\"1643\"}},\"id\":\"1630\",\"type\":\"ColumnDataSource\"},{\"attributes\":{\"axis_label\":\"y\",\"coordinates\":null,\"formatter\":{\"id\":\"1601\"},\"group\":null,\"major_label_policy\":{\"id\":\"1611\"},\"ticker\":{\"id\":\"1600\"}},\"id\":\"1579\",\"type\":\"LinearAxis\"},{\"attributes\":{\"dimension\":\"lat\"},\"id\":\"1601\",\"type\":\"MercatorTickFormatter\"},{\"attributes\":{\"coordinates\":null,\"group\":null,\"level\":\"glyph\",\"tile_source\":{\"id\":\"1624\"}},\"id\":\"1627\",\"type\":\"TileRenderer\"},{\"attributes\":{\"coordinates\":null,\"data_source\":{\"id\":\"1630\"},\"glyph\":{\"id\":\"1633\"},\"group\":null,\"hover_glyph\":{\"id\":\"1636\"},\"muted_glyph\":{\"id\":\"1637\"},\"nonselection_glyph\":{\"id\":\"1634\"},\"selection_glyph\":{\"id\":\"1635\"},\"view\":{\"id\":\"1639\"}},\"id\":\"1638\",\"type\":\"GlyphRenderer\"},{\"attributes\":{\"dimension\":\"lat\"},\"id\":\"1600\",\"type\":\"MercatorTicker\"},{\"attributes\":{\"code\":\"\\n        var projections = Bokeh.require(\\\"core/util/projections\\\");\\n        var x = special_vars.data_x\\n        var y = special_vars.data_y\\n        if (projections.wgs84_mercator.invert == null) {\\n          var coords = projections.wgs84_mercator.inverse([x, y])\\n        } else {\\n          var coords = projections.wgs84_mercator.invert(x, y)\\n        }\\n        return \\\"\\\" + (coords[0]).toFixed(4)\\n    \"},\"id\":\"1648\",\"type\":\"CustomJSHover\"},{\"attributes\":{},\"id\":\"1643\",\"type\":\"UnionRenderers\"},{\"attributes\":{},\"id\":\"1583\",\"type\":\"SaveTool\"},{\"attributes\":{\"source\":{\"id\":\"1630\"}},\"id\":\"1639\",\"type\":\"CDSView\"},{\"attributes\":{},\"id\":\"1584\",\"type\":\"PanTool\"},{\"attributes\":{\"fill_color\":{\"field\":\"color\",\"transform\":{\"id\":\"1629\"}},\"hatch_color\":{\"field\":\"color\",\"transform\":{\"id\":\"1629\"}},\"line_color\":{\"field\":\"color\",\"transform\":{\"id\":\"1629\"}},\"size\":{\"field\":\"size\"},\"x\":{\"field\":\"long\"},\"y\":{\"field\":\"lat\"}},\"id\":\"1635\",\"type\":\"Scatter\"},{\"attributes\":{\"zoom_on_axis\":false},\"id\":\"1585\",\"type\":\"WheelZoomTool\"},{\"attributes\":{\"end\":-8190917.615769323,\"min_interval\":5,\"reset_end\":-8190917.615769323,\"reset_start\":-8286281.344543552,\"start\":-8286281.344543552,\"tags\":[[[\"long\",\"long\",null]]]},\"id\":\"1559\",\"type\":\"Range1d\"},{\"attributes\":{\"fill_alpha\":{\"value\":0.2},\"fill_color\":{\"field\":\"color\",\"transform\":{\"id\":\"1629\"}},\"hatch_alpha\":{\"value\":0.2},\"hatch_color\":{\"field\":\"color\",\"transform\":{\"id\":\"1629\"}},\"line_alpha\":{\"value\":0.2},\"line_color\":{\"field\":\"color\",\"transform\":{\"id\":\"1629\"}},\"size\":{\"field\":\"size\"},\"x\":{\"field\":\"long\"},\"y\":{\"field\":\"lat\"}},\"id\":\"1637\",\"type\":\"Scatter\"},{\"attributes\":{\"dimension\":\"lon\"},\"id\":\"1599\",\"type\":\"MercatorTickFormatter\"},{\"attributes\":{\"margin\":[5,5,5,5],\"name\":\"HSpacer04561\",\"sizing_mode\":\"stretch_width\"},\"id\":\"1554\",\"type\":\"Spacer\"},{\"attributes\":{\"margin\":[5,5,5,5],\"name\":\"HSpacer04562\",\"sizing_mode\":\"stretch_width\"},\"id\":\"1704\",\"type\":\"Spacer\"},{\"attributes\":{\"end\":5004018.724242389,\"min_interval\":5,\"reset_end\":5004018.724242389,\"reset_start\":4935901.775117939,\"start\":4935901.775117939,\"tags\":[[[\"lat\",\"lat\",null]]]},\"id\":\"1560\",\"type\":\"Range1d\"},{\"attributes\":{\"click_policy\":\"mute\",\"coordinates\":null,\"group\":null,\"items\":[{\"id\":\"1647\"}],\"location\":[0,0]},\"id\":\"1646\",\"type\":\"Legend\"},{\"attributes\":{\"axis_label\":\"x\",\"coordinates\":null,\"formatter\":{\"id\":\"1599\"},\"group\":null,\"major_label_policy\":{\"id\":\"1604\"},\"ticker\":{\"id\":\"1598\"}},\"id\":\"1575\",\"type\":\"LinearAxis\"},{\"attributes\":{\"match_aspect\":true,\"overlay\":{\"id\":\"1588\"}},\"id\":\"1586\",\"type\":\"BoxZoomTool\"},{\"attributes\":{},\"id\":\"1631\",\"type\":\"Selection\"},{\"attributes\":{\"coordinates\":null,\"group\":null,\"text\":\"Houses for sale in the Boroughs selected\",\"text_color\":\"black\",\"text_font_size\":\"12pt\"},\"id\":\"1567\",\"type\":\"Title\"},{\"attributes\":{},\"id\":\"1587\",\"type\":\"ResetTool\"}],\"root_ids\":[\"1553\"]},\"title\":\"Bokeh Application\",\"version\":\"2.4.2\"}};\n",
       "    var render_items = [{\"docid\":\"3f129462-e7d6-41c1-a2ae-02bd29128e2e\",\"root_ids\":[\"1553\"],\"roots\":{\"1553\":\"254b0493-26de-474b-a168-0ede5ab26fb4\"}}];\n",
       "    root.Bokeh.embed.embed_items_notebook(docs_json, render_items);\n",
       "  }\n",
       "  if (root.Bokeh !== undefined && root.Bokeh.Panel !== undefined) {\n",
       "    embed_document(root);\n",
       "  } else {\n",
       "    var attempts = 0;\n",
       "    var timer = setInterval(function(root) {\n",
       "      if (root.Bokeh !== undefined && root.Bokeh.Panel !== undefined) {\n",
       "        clearInterval(timer);\n",
       "        embed_document(root);\n",
       "      } else if (document.readyState == \"complete\") {\n",
       "        attempts++;\n",
       "        if (attempts > 200) {\n",
       "          clearInterval(timer);\n",
       "          console.log(\"Bokeh: ERROR: Unable to run BokehJS code because BokehJS library is missing\");\n",
       "        }\n",
       "      }\n",
       "    }, 25, root)\n",
       "  }\n",
       "})(window);</script>"
      ],
      "text/plain": [
       ":Overlay\n",
       "   .Tiles.I  :Tiles   [x,y]\n",
       "   .Points.I :Points   [long,lat]   (BOROUGH,PRICE)"
      ]
     },
     "execution_count": 31,
     "metadata": {
      "application/vnd.holoviews_exec.v0+json": {
       "id": "1553"
      }
     },
     "output_type": "execute_result"
    }
   ],
   "source": [
    "# make a goeplot of the houses\n",
    "houses = df_houses_new.hvplot.points(\n",
    "    'long', \n",
    "    'lat', \n",
    "    geo=True, \n",
    "    size='PRICE',\n",
    "    color='BOROUGH',\n",
    "    # alpha=0.2,\n",
    "    tiles='OSM',\n",
    "    frame_width = 700,\n",
    "    frame_height = 500\n",
    "    ).opts(\n",
    "    title = \"Houses for sale in the Boroughs selected\"\n",
    ")\n",
    "# Show the plot\n",
    "houses"
   ]
  },
  {
   "cell_type": "code",
   "execution_count": null,
   "id": "ab7de871-dc9d-468a-9dc8-5058411d62db",
   "metadata": {},
   "outputs": [],
   "source": []
  }
 ],
 "metadata": {
  "kernelspec": {
   "display_name": "Python (dev)",
   "language": "python",
   "name": "dev"
  },
  "language_info": {
   "codemirror_mode": {
    "name": "ipython",
    "version": 3
   },
   "file_extension": ".py",
   "mimetype": "text/x-python",
   "name": "python",
   "nbconvert_exporter": "python",
   "pygments_lexer": "ipython3",
   "version": "3.7.13"
  }
 },
 "nbformat": 4,
 "nbformat_minor": 5
}
